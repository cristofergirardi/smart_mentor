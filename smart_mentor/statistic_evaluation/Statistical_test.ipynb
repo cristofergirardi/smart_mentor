{
  "nbformat": 4,
  "nbformat_minor": 0,
  "metadata": {
    "colab": {
      "provenance": []
    },
    "kernelspec": {
      "name": "python3",
      "display_name": "Python 3"
    },
    "language_info": {
      "name": "python"
    }
  },
  "cells": [
    {
      "cell_type": "markdown",
      "source": [
        "# Install libs"
      ],
      "metadata": {
        "id": "9awKcf1tFrLX"
      }
    },
    {
      "cell_type": "code",
      "source": [
        "pip install myst_nb"
      ],
      "metadata": {
        "colab": {
          "base_uri": "https://localhost:8080/"
        },
        "id": "xnUmbvnFFmlo",
        "outputId": "a526cc1d-caa1-4122-9f34-de8c4b76d58a"
      },
      "execution_count": null,
      "outputs": [
        {
          "output_type": "stream",
          "name": "stdout",
          "text": [
            "Requirement already satisfied: myst_nb in /usr/local/lib/python3.11/dist-packages (1.2.0)\n",
            "Requirement already satisfied: importlib_metadata in /usr/local/lib/python3.11/dist-packages (from myst_nb) (8.6.1)\n",
            "Requirement already satisfied: ipython in /usr/local/lib/python3.11/dist-packages (from myst_nb) (7.34.0)\n",
            "Requirement already satisfied: jupyter-cache>=0.5 in /usr/local/lib/python3.11/dist-packages (from myst_nb) (1.0.1)\n",
            "Requirement already satisfied: nbclient in /usr/local/lib/python3.11/dist-packages (from myst_nb) (0.10.2)\n",
            "Requirement already satisfied: myst-parser>=1.0.0 in /usr/local/lib/python3.11/dist-packages (from myst_nb) (4.0.1)\n",
            "Requirement already satisfied: nbformat>=5.0 in /usr/local/lib/python3.11/dist-packages (from myst_nb) (5.10.4)\n",
            "Requirement already satisfied: pyyaml in /usr/local/lib/python3.11/dist-packages (from myst_nb) (6.0.2)\n",
            "Requirement already satisfied: sphinx>=5 in /usr/local/lib/python3.11/dist-packages (from myst_nb) (8.2.3)\n",
            "Requirement already satisfied: typing-extensions in /usr/local/lib/python3.11/dist-packages (from myst_nb) (4.13.1)\n",
            "Requirement already satisfied: ipykernel in /usr/local/lib/python3.11/dist-packages (from myst_nb) (6.17.1)\n",
            "Requirement already satisfied: attrs in /usr/local/lib/python3.11/dist-packages (from jupyter-cache>=0.5->myst_nb) (25.3.0)\n",
            "Requirement already satisfied: click in /usr/local/lib/python3.11/dist-packages (from jupyter-cache>=0.5->myst_nb) (8.1.8)\n",
            "Requirement already satisfied: sqlalchemy<3,>=1.3.12 in /usr/local/lib/python3.11/dist-packages (from jupyter-cache>=0.5->myst_nb) (2.0.40)\n",
            "Requirement already satisfied: tabulate in /usr/local/lib/python3.11/dist-packages (from jupyter-cache>=0.5->myst_nb) (0.9.0)\n",
            "Requirement already satisfied: docutils<0.22,>=0.19 in /usr/local/lib/python3.11/dist-packages (from myst-parser>=1.0.0->myst_nb) (0.21.2)\n",
            "Requirement already satisfied: jinja2 in /usr/local/lib/python3.11/dist-packages (from myst-parser>=1.0.0->myst_nb) (3.1.6)\n",
            "Requirement already satisfied: markdown-it-py~=3.0 in /usr/local/lib/python3.11/dist-packages (from myst-parser>=1.0.0->myst_nb) (3.0.0)\n",
            "Requirement already satisfied: mdit-py-plugins>=0.4.1,~=0.4 in /usr/local/lib/python3.11/dist-packages (from myst-parser>=1.0.0->myst_nb) (0.4.2)\n",
            "Requirement already satisfied: jupyter-client>=6.1.12 in /usr/local/lib/python3.11/dist-packages (from nbclient->myst_nb) (6.1.12)\n",
            "Requirement already satisfied: jupyter-core!=5.0.*,>=4.12 in /usr/local/lib/python3.11/dist-packages (from nbclient->myst_nb) (5.7.2)\n",
            "Requirement already satisfied: traitlets>=5.4 in /usr/local/lib/python3.11/dist-packages (from nbclient->myst_nb) (5.7.1)\n",
            "Requirement already satisfied: fastjsonschema>=2.15 in /usr/local/lib/python3.11/dist-packages (from nbformat>=5.0->myst_nb) (2.21.1)\n",
            "Requirement already satisfied: jsonschema>=2.6 in /usr/local/lib/python3.11/dist-packages (from nbformat>=5.0->myst_nb) (4.23.0)\n",
            "Requirement already satisfied: sphinxcontrib-applehelp>=1.0.7 in /usr/local/lib/python3.11/dist-packages (from sphinx>=5->myst_nb) (2.0.0)\n",
            "Requirement already satisfied: sphinxcontrib-devhelp>=1.0.6 in /usr/local/lib/python3.11/dist-packages (from sphinx>=5->myst_nb) (2.0.0)\n",
            "Requirement already satisfied: sphinxcontrib-htmlhelp>=2.0.6 in /usr/local/lib/python3.11/dist-packages (from sphinx>=5->myst_nb) (2.1.0)\n",
            "Requirement already satisfied: sphinxcontrib-jsmath>=1.0.1 in /usr/local/lib/python3.11/dist-packages (from sphinx>=5->myst_nb) (1.0.1)\n",
            "Requirement already satisfied: sphinxcontrib-qthelp>=1.0.6 in /usr/local/lib/python3.11/dist-packages (from sphinx>=5->myst_nb) (2.0.0)\n",
            "Requirement already satisfied: sphinxcontrib-serializinghtml>=1.1.9 in /usr/local/lib/python3.11/dist-packages (from sphinx>=5->myst_nb) (2.0.0)\n",
            "Requirement already satisfied: Pygments>=2.17 in /usr/local/lib/python3.11/dist-packages (from sphinx>=5->myst_nb) (2.18.0)\n",
            "Requirement already satisfied: snowballstemmer>=2.2 in /usr/local/lib/python3.11/dist-packages (from sphinx>=5->myst_nb) (2.2.0)\n",
            "Requirement already satisfied: babel>=2.13 in /usr/local/lib/python3.11/dist-packages (from sphinx>=5->myst_nb) (2.17.0)\n",
            "Requirement already satisfied: alabaster>=0.7.14 in /usr/local/lib/python3.11/dist-packages (from sphinx>=5->myst_nb) (1.0.0)\n",
            "Requirement already satisfied: imagesize>=1.3 in /usr/local/lib/python3.11/dist-packages (from sphinx>=5->myst_nb) (1.4.1)\n",
            "Requirement already satisfied: requests>=2.30.0 in /usr/local/lib/python3.11/dist-packages (from sphinx>=5->myst_nb) (2.32.3)\n",
            "Requirement already satisfied: roman-numerals-py>=1.0.0 in /usr/local/lib/python3.11/dist-packages (from sphinx>=5->myst_nb) (3.1.0)\n",
            "Requirement already satisfied: packaging>=23.0 in /usr/local/lib/python3.11/dist-packages (from sphinx>=5->myst_nb) (24.2)\n",
            "Requirement already satisfied: zipp>=3.20 in /usr/local/lib/python3.11/dist-packages (from importlib_metadata->myst_nb) (3.21.0)\n",
            "Requirement already satisfied: debugpy>=1.0 in /usr/local/lib/python3.11/dist-packages (from ipykernel->myst_nb) (1.8.0)\n",
            "Requirement already satisfied: matplotlib-inline>=0.1 in /usr/local/lib/python3.11/dist-packages (from ipykernel->myst_nb) (0.1.7)\n",
            "Requirement already satisfied: nest-asyncio in /usr/local/lib/python3.11/dist-packages (from ipykernel->myst_nb) (1.6.0)\n",
            "Requirement already satisfied: psutil in /usr/local/lib/python3.11/dist-packages (from ipykernel->myst_nb) (5.9.5)\n",
            "Requirement already satisfied: pyzmq>=17 in /usr/local/lib/python3.11/dist-packages (from ipykernel->myst_nb) (24.0.1)\n",
            "Requirement already satisfied: tornado>=6.1 in /usr/local/lib/python3.11/dist-packages (from ipykernel->myst_nb) (6.4.2)\n",
            "Requirement already satisfied: setuptools>=18.5 in /usr/local/lib/python3.11/dist-packages (from ipython->myst_nb) (75.2.0)\n",
            "Requirement already satisfied: jedi>=0.16 in /usr/local/lib/python3.11/dist-packages (from ipython->myst_nb) (0.19.2)\n",
            "Requirement already satisfied: decorator in /usr/local/lib/python3.11/dist-packages (from ipython->myst_nb) (4.4.2)\n",
            "Requirement already satisfied: pickleshare in /usr/local/lib/python3.11/dist-packages (from ipython->myst_nb) (0.7.5)\n",
            "Requirement already satisfied: prompt-toolkit!=3.0.0,!=3.0.1,<3.1.0,>=2.0.0 in /usr/local/lib/python3.11/dist-packages (from ipython->myst_nb) (3.0.50)\n",
            "Requirement already satisfied: backcall in /usr/local/lib/python3.11/dist-packages (from ipython->myst_nb) (0.2.0)\n",
            "Requirement already satisfied: pexpect>4.3 in /usr/local/lib/python3.11/dist-packages (from ipython->myst_nb) (4.9.0)\n",
            "Requirement already satisfied: parso<0.9.0,>=0.8.4 in /usr/local/lib/python3.11/dist-packages (from jedi>=0.16->ipython->myst_nb) (0.8.4)\n",
            "Requirement already satisfied: MarkupSafe>=2.0 in /usr/local/lib/python3.11/dist-packages (from jinja2->myst-parser>=1.0.0->myst_nb) (3.0.2)\n",
            "Requirement already satisfied: jsonschema-specifications>=2023.03.6 in /usr/local/lib/python3.11/dist-packages (from jsonschema>=2.6->nbformat>=5.0->myst_nb) (2024.10.1)\n",
            "Requirement already satisfied: referencing>=0.28.4 in /usr/local/lib/python3.11/dist-packages (from jsonschema>=2.6->nbformat>=5.0->myst_nb) (0.36.2)\n",
            "Requirement already satisfied: rpds-py>=0.7.1 in /usr/local/lib/python3.11/dist-packages (from jsonschema>=2.6->nbformat>=5.0->myst_nb) (0.24.0)\n",
            "Requirement already satisfied: python-dateutil>=2.1 in /usr/local/lib/python3.11/dist-packages (from jupyter-client>=6.1.12->nbclient->myst_nb) (2.8.2)\n",
            "Requirement already satisfied: platformdirs>=2.5 in /usr/local/lib/python3.11/dist-packages (from jupyter-core!=5.0.*,>=4.12->nbclient->myst_nb) (4.3.7)\n",
            "Requirement already satisfied: mdurl~=0.1 in /usr/local/lib/python3.11/dist-packages (from markdown-it-py~=3.0->myst-parser>=1.0.0->myst_nb) (0.1.2)\n",
            "Requirement already satisfied: ptyprocess>=0.5 in /usr/local/lib/python3.11/dist-packages (from pexpect>4.3->ipython->myst_nb) (0.7.0)\n",
            "Requirement already satisfied: wcwidth in /usr/local/lib/python3.11/dist-packages (from prompt-toolkit!=3.0.0,!=3.0.1,<3.1.0,>=2.0.0->ipython->myst_nb) (0.2.13)\n",
            "Requirement already satisfied: charset-normalizer<4,>=2 in /usr/local/lib/python3.11/dist-packages (from requests>=2.30.0->sphinx>=5->myst_nb) (3.4.1)\n",
            "Requirement already satisfied: idna<4,>=2.5 in /usr/local/lib/python3.11/dist-packages (from requests>=2.30.0->sphinx>=5->myst_nb) (3.10)\n",
            "Requirement already satisfied: urllib3<3,>=1.21.1 in /usr/local/lib/python3.11/dist-packages (from requests>=2.30.0->sphinx>=5->myst_nb) (2.3.0)\n",
            "Requirement already satisfied: certifi>=2017.4.17 in /usr/local/lib/python3.11/dist-packages (from requests>=2.30.0->sphinx>=5->myst_nb) (2025.1.31)\n",
            "Requirement already satisfied: greenlet>=1 in /usr/local/lib/python3.11/dist-packages (from sqlalchemy<3,>=1.3.12->jupyter-cache>=0.5->myst_nb) (3.1.1)\n",
            "Requirement already satisfied: six>=1.5 in /usr/local/lib/python3.11/dist-packages (from python-dateutil>=2.1->jupyter-client>=6.1.12->nbclient->myst_nb) (1.17.0)\n"
          ]
        }
      ]
    },
    {
      "cell_type": "code",
      "execution_count": null,
      "metadata": {
        "id": "Xa2tdbbumc7n"
      },
      "outputs": [],
      "source": [
        "import matplotlib.pyplot as plt\n",
        "import pandas as pd\n",
        "import glob\n",
        "import os\n",
        "import seaborn as sns\n",
        "import statsmodels.api as sm\n",
        "import numpy as np\n",
        "import scipy.stats as stats\n",
        "import math\n",
        "from myst_nb import glue\n",
        "from statistics import NormalDist"
      ]
    },
    {
      "cell_type": "markdown",
      "source": [
        "# Reading the CSV folder"
      ],
      "metadata": {
        "id": "GLQwnoSMvaE6"
      }
    },
    {
      "cell_type": "code",
      "source": [
        "folder_path = \"/content/drive/MyDrive/Papers - Mestrado Cristofer/Cristofer-Tópicos Avançados em Sistemas/Programas/all_results\""
      ],
      "metadata": {
        "id": "GApzo1k_uEFX"
      },
      "execution_count": null,
      "outputs": []
    },
    {
      "cell_type": "markdown",
      "source": [
        "# Combine all CSVs into a single DataFrame"
      ],
      "metadata": {
        "id": "viR1UcN4vg26"
      }
    },
    {
      "cell_type": "code",
      "source": [
        "all_files = glob.glob(os.path.join(folder_path, \"*.csv\"))\n",
        "combined_df = pd.concat((pd.read_csv(f) for f in all_files), ignore_index=True)"
      ],
      "metadata": {
        "id": "0z0PiFNWuoHu"
      },
      "execution_count": null,
      "outputs": []
    },
    {
      "cell_type": "markdown",
      "source": [
        "# Checking dataframe"
      ],
      "metadata": {
        "id": "JBY9MEfHwDy2"
      }
    },
    {
      "cell_type": "code",
      "source": [
        "combined_df.head()"
      ],
      "metadata": {
        "colab": {
          "base_uri": "https://localhost:8080/",
          "height": 206
        },
        "id": "3eb6NHSavvEA",
        "outputId": "d6517437-c9f3-4c5b-d84d-da3422b69158"
      },
      "execution_count": null,
      "outputs": [
        {
          "output_type": "execute_result",
          "data": {
            "text/plain": [
              "    h   model       metric  similarity\n",
              "0  h1  openai  bert_metric    0.988780\n",
              "1  h1   llama  bert_metric    0.987299\n",
              "2  h1  openai  bert_metric    1.000000\n",
              "3  h1   llama  bert_metric    0.994812\n",
              "4  h1  openai  bert_metric    0.993168"
            ],
            "text/html": [
              "\n",
              "  <div id=\"df-58b7676b-f72f-4dd0-aa7f-e179374d7dde\" class=\"colab-df-container\">\n",
              "    <div>\n",
              "<style scoped>\n",
              "    .dataframe tbody tr th:only-of-type {\n",
              "        vertical-align: middle;\n",
              "    }\n",
              "\n",
              "    .dataframe tbody tr th {\n",
              "        vertical-align: top;\n",
              "    }\n",
              "\n",
              "    .dataframe thead th {\n",
              "        text-align: right;\n",
              "    }\n",
              "</style>\n",
              "<table border=\"1\" class=\"dataframe\">\n",
              "  <thead>\n",
              "    <tr style=\"text-align: right;\">\n",
              "      <th></th>\n",
              "      <th>h</th>\n",
              "      <th>model</th>\n",
              "      <th>metric</th>\n",
              "      <th>similarity</th>\n",
              "    </tr>\n",
              "  </thead>\n",
              "  <tbody>\n",
              "    <tr>\n",
              "      <th>0</th>\n",
              "      <td>h1</td>\n",
              "      <td>openai</td>\n",
              "      <td>bert_metric</td>\n",
              "      <td>0.988780</td>\n",
              "    </tr>\n",
              "    <tr>\n",
              "      <th>1</th>\n",
              "      <td>h1</td>\n",
              "      <td>llama</td>\n",
              "      <td>bert_metric</td>\n",
              "      <td>0.987299</td>\n",
              "    </tr>\n",
              "    <tr>\n",
              "      <th>2</th>\n",
              "      <td>h1</td>\n",
              "      <td>openai</td>\n",
              "      <td>bert_metric</td>\n",
              "      <td>1.000000</td>\n",
              "    </tr>\n",
              "    <tr>\n",
              "      <th>3</th>\n",
              "      <td>h1</td>\n",
              "      <td>llama</td>\n",
              "      <td>bert_metric</td>\n",
              "      <td>0.994812</td>\n",
              "    </tr>\n",
              "    <tr>\n",
              "      <th>4</th>\n",
              "      <td>h1</td>\n",
              "      <td>openai</td>\n",
              "      <td>bert_metric</td>\n",
              "      <td>0.993168</td>\n",
              "    </tr>\n",
              "  </tbody>\n",
              "</table>\n",
              "</div>\n",
              "    <div class=\"colab-df-buttons\">\n",
              "\n",
              "  <div class=\"colab-df-container\">\n",
              "    <button class=\"colab-df-convert\" onclick=\"convertToInteractive('df-58b7676b-f72f-4dd0-aa7f-e179374d7dde')\"\n",
              "            title=\"Convert this dataframe to an interactive table.\"\n",
              "            style=\"display:none;\">\n",
              "\n",
              "  <svg xmlns=\"http://www.w3.org/2000/svg\" height=\"24px\" viewBox=\"0 -960 960 960\">\n",
              "    <path d=\"M120-120v-720h720v720H120Zm60-500h600v-160H180v160Zm220 220h160v-160H400v160Zm0 220h160v-160H400v160ZM180-400h160v-160H180v160Zm440 0h160v-160H620v160ZM180-180h160v-160H180v160Zm440 0h160v-160H620v160Z\"/>\n",
              "  </svg>\n",
              "    </button>\n",
              "\n",
              "  <style>\n",
              "    .colab-df-container {\n",
              "      display:flex;\n",
              "      gap: 12px;\n",
              "    }\n",
              "\n",
              "    .colab-df-convert {\n",
              "      background-color: #E8F0FE;\n",
              "      border: none;\n",
              "      border-radius: 50%;\n",
              "      cursor: pointer;\n",
              "      display: none;\n",
              "      fill: #1967D2;\n",
              "      height: 32px;\n",
              "      padding: 0 0 0 0;\n",
              "      width: 32px;\n",
              "    }\n",
              "\n",
              "    .colab-df-convert:hover {\n",
              "      background-color: #E2EBFA;\n",
              "      box-shadow: 0px 1px 2px rgba(60, 64, 67, 0.3), 0px 1px 3px 1px rgba(60, 64, 67, 0.15);\n",
              "      fill: #174EA6;\n",
              "    }\n",
              "\n",
              "    .colab-df-buttons div {\n",
              "      margin-bottom: 4px;\n",
              "    }\n",
              "\n",
              "    [theme=dark] .colab-df-convert {\n",
              "      background-color: #3B4455;\n",
              "      fill: #D2E3FC;\n",
              "    }\n",
              "\n",
              "    [theme=dark] .colab-df-convert:hover {\n",
              "      background-color: #434B5C;\n",
              "      box-shadow: 0px 1px 3px 1px rgba(0, 0, 0, 0.15);\n",
              "      filter: drop-shadow(0px 1px 2px rgba(0, 0, 0, 0.3));\n",
              "      fill: #FFFFFF;\n",
              "    }\n",
              "  </style>\n",
              "\n",
              "    <script>\n",
              "      const buttonEl =\n",
              "        document.querySelector('#df-58b7676b-f72f-4dd0-aa7f-e179374d7dde button.colab-df-convert');\n",
              "      buttonEl.style.display =\n",
              "        google.colab.kernel.accessAllowed ? 'block' : 'none';\n",
              "\n",
              "      async function convertToInteractive(key) {\n",
              "        const element = document.querySelector('#df-58b7676b-f72f-4dd0-aa7f-e179374d7dde');\n",
              "        const dataTable =\n",
              "          await google.colab.kernel.invokeFunction('convertToInteractive',\n",
              "                                                    [key], {});\n",
              "        if (!dataTable) return;\n",
              "\n",
              "        const docLinkHtml = 'Like what you see? Visit the ' +\n",
              "          '<a target=\"_blank\" href=https://colab.research.google.com/notebooks/data_table.ipynb>data table notebook</a>'\n",
              "          + ' to learn more about interactive tables.';\n",
              "        element.innerHTML = '';\n",
              "        dataTable['output_type'] = 'display_data';\n",
              "        await google.colab.output.renderOutput(dataTable, element);\n",
              "        const docLink = document.createElement('div');\n",
              "        docLink.innerHTML = docLinkHtml;\n",
              "        element.appendChild(docLink);\n",
              "      }\n",
              "    </script>\n",
              "  </div>\n",
              "\n",
              "\n",
              "<div id=\"df-a881f50f-d075-41ea-b358-3c27b47d8d8f\">\n",
              "  <button class=\"colab-df-quickchart\" onclick=\"quickchart('df-a881f50f-d075-41ea-b358-3c27b47d8d8f')\"\n",
              "            title=\"Suggest charts\"\n",
              "            style=\"display:none;\">\n",
              "\n",
              "<svg xmlns=\"http://www.w3.org/2000/svg\" height=\"24px\"viewBox=\"0 0 24 24\"\n",
              "     width=\"24px\">\n",
              "    <g>\n",
              "        <path d=\"M19 3H5c-1.1 0-2 .9-2 2v14c0 1.1.9 2 2 2h14c1.1 0 2-.9 2-2V5c0-1.1-.9-2-2-2zM9 17H7v-7h2v7zm4 0h-2V7h2v10zm4 0h-2v-4h2v4z\"/>\n",
              "    </g>\n",
              "</svg>\n",
              "  </button>\n",
              "\n",
              "<style>\n",
              "  .colab-df-quickchart {\n",
              "      --bg-color: #E8F0FE;\n",
              "      --fill-color: #1967D2;\n",
              "      --hover-bg-color: #E2EBFA;\n",
              "      --hover-fill-color: #174EA6;\n",
              "      --disabled-fill-color: #AAA;\n",
              "      --disabled-bg-color: #DDD;\n",
              "  }\n",
              "\n",
              "  [theme=dark] .colab-df-quickchart {\n",
              "      --bg-color: #3B4455;\n",
              "      --fill-color: #D2E3FC;\n",
              "      --hover-bg-color: #434B5C;\n",
              "      --hover-fill-color: #FFFFFF;\n",
              "      --disabled-bg-color: #3B4455;\n",
              "      --disabled-fill-color: #666;\n",
              "  }\n",
              "\n",
              "  .colab-df-quickchart {\n",
              "    background-color: var(--bg-color);\n",
              "    border: none;\n",
              "    border-radius: 50%;\n",
              "    cursor: pointer;\n",
              "    display: none;\n",
              "    fill: var(--fill-color);\n",
              "    height: 32px;\n",
              "    padding: 0;\n",
              "    width: 32px;\n",
              "  }\n",
              "\n",
              "  .colab-df-quickchart:hover {\n",
              "    background-color: var(--hover-bg-color);\n",
              "    box-shadow: 0 1px 2px rgba(60, 64, 67, 0.3), 0 1px 3px 1px rgba(60, 64, 67, 0.15);\n",
              "    fill: var(--button-hover-fill-color);\n",
              "  }\n",
              "\n",
              "  .colab-df-quickchart-complete:disabled,\n",
              "  .colab-df-quickchart-complete:disabled:hover {\n",
              "    background-color: var(--disabled-bg-color);\n",
              "    fill: var(--disabled-fill-color);\n",
              "    box-shadow: none;\n",
              "  }\n",
              "\n",
              "  .colab-df-spinner {\n",
              "    border: 2px solid var(--fill-color);\n",
              "    border-color: transparent;\n",
              "    border-bottom-color: var(--fill-color);\n",
              "    animation:\n",
              "      spin 1s steps(1) infinite;\n",
              "  }\n",
              "\n",
              "  @keyframes spin {\n",
              "    0% {\n",
              "      border-color: transparent;\n",
              "      border-bottom-color: var(--fill-color);\n",
              "      border-left-color: var(--fill-color);\n",
              "    }\n",
              "    20% {\n",
              "      border-color: transparent;\n",
              "      border-left-color: var(--fill-color);\n",
              "      border-top-color: var(--fill-color);\n",
              "    }\n",
              "    30% {\n",
              "      border-color: transparent;\n",
              "      border-left-color: var(--fill-color);\n",
              "      border-top-color: var(--fill-color);\n",
              "      border-right-color: var(--fill-color);\n",
              "    }\n",
              "    40% {\n",
              "      border-color: transparent;\n",
              "      border-right-color: var(--fill-color);\n",
              "      border-top-color: var(--fill-color);\n",
              "    }\n",
              "    60% {\n",
              "      border-color: transparent;\n",
              "      border-right-color: var(--fill-color);\n",
              "    }\n",
              "    80% {\n",
              "      border-color: transparent;\n",
              "      border-right-color: var(--fill-color);\n",
              "      border-bottom-color: var(--fill-color);\n",
              "    }\n",
              "    90% {\n",
              "      border-color: transparent;\n",
              "      border-bottom-color: var(--fill-color);\n",
              "    }\n",
              "  }\n",
              "</style>\n",
              "\n",
              "  <script>\n",
              "    async function quickchart(key) {\n",
              "      const quickchartButtonEl =\n",
              "        document.querySelector('#' + key + ' button');\n",
              "      quickchartButtonEl.disabled = true;  // To prevent multiple clicks.\n",
              "      quickchartButtonEl.classList.add('colab-df-spinner');\n",
              "      try {\n",
              "        const charts = await google.colab.kernel.invokeFunction(\n",
              "            'suggestCharts', [key], {});\n",
              "      } catch (error) {\n",
              "        console.error('Error during call to suggestCharts:', error);\n",
              "      }\n",
              "      quickchartButtonEl.classList.remove('colab-df-spinner');\n",
              "      quickchartButtonEl.classList.add('colab-df-quickchart-complete');\n",
              "    }\n",
              "    (() => {\n",
              "      let quickchartButtonEl =\n",
              "        document.querySelector('#df-a881f50f-d075-41ea-b358-3c27b47d8d8f button');\n",
              "      quickchartButtonEl.style.display =\n",
              "        google.colab.kernel.accessAllowed ? 'block' : 'none';\n",
              "    })();\n",
              "  </script>\n",
              "</div>\n",
              "\n",
              "    </div>\n",
              "  </div>\n"
            ],
            "application/vnd.google.colaboratory.intrinsic+json": {
              "type": "dataframe",
              "variable_name": "combined_df",
              "summary": "{\n  \"name\": \"combined_df\",\n  \"rows\": 780,\n  \"fields\": [\n    {\n      \"column\": \"h\",\n      \"properties\": {\n        \"dtype\": \"category\",\n        \"num_unique_values\": 13,\n        \"samples\": [\n          \"h7\",\n          \"h9\",\n          \"h1\"\n        ],\n        \"semantic_type\": \"\",\n        \"description\": \"\"\n      }\n    },\n    {\n      \"column\": \"model\",\n      \"properties\": {\n        \"dtype\": \"category\",\n        \"num_unique_values\": 2,\n        \"samples\": [\n          \"llama\",\n          \"openai\"\n        ],\n        \"semantic_type\": \"\",\n        \"description\": \"\"\n      }\n    },\n    {\n      \"column\": \"metric\",\n      \"properties\": {\n        \"dtype\": \"category\",\n        \"num_unique_values\": 1,\n        \"samples\": [\n          \"bert_metric\"\n        ],\n        \"semantic_type\": \"\",\n        \"description\": \"\"\n      }\n    },\n    {\n      \"column\": \"similarity\",\n      \"properties\": {\n        \"dtype\": \"number\",\n        \"std\": 0.022573229756936906,\n        \"min\": 0.8808419704437256,\n        \"max\": 1.0,\n        \"num_unique_values\": 378,\n        \"samples\": [\n          0.9619346261024476\n        ],\n        \"semantic_type\": \"\",\n        \"description\": \"\"\n      }\n    }\n  ]\n}"
            }
          },
          "metadata": {},
          "execution_count": 14
        }
      ]
    },
    {
      "cell_type": "code",
      "source": [
        "len(combined_df)"
      ],
      "metadata": {
        "colab": {
          "base_uri": "https://localhost:8080/"
        },
        "id": "xMCzMyXzHZAI",
        "outputId": "05a093e5-452d-471c-ac97-9f7c2655c20b"
      },
      "execution_count": null,
      "outputs": [
        {
          "output_type": "execute_result",
          "data": {
            "text/plain": [
              "780"
            ]
          },
          "metadata": {},
          "execution_count": 15
        }
      ]
    },
    {
      "cell_type": "code",
      "source": [
        "len(combined_df.where(combined_df['h'] != 'h0').dropna(how='all'))"
      ],
      "metadata": {
        "colab": {
          "base_uri": "https://localhost:8080/"
        },
        "id": "_dfqzSz4HwBO",
        "outputId": "45a4b917-f8ef-4a36-d22e-7b635a9d814f"
      },
      "execution_count": null,
      "outputs": [
        {
          "output_type": "execute_result",
          "data": {
            "text/plain": [
              "720"
            ]
          },
          "metadata": {},
          "execution_count": 16
        }
      ]
    },
    {
      "cell_type": "markdown",
      "source": [
        "# Split data in openai_df and llama_df"
      ],
      "metadata": {
        "id": "-Y_oCDsfwHsp"
      }
    },
    {
      "cell_type": "code",
      "source": [
        "openai_df = combined_df.where(combined_df['model'].str.contains('openai')).dropna(how='all')\n",
        "llama_df = combined_df.where(combined_df['model'].str.contains('llama')).dropna(how='all')"
      ],
      "metadata": {
        "id": "MlVD5c4BwGh_"
      },
      "execution_count": null,
      "outputs": []
    },
    {
      "cell_type": "markdown",
      "source": [
        "# Modify the value (h1..hk) to 's' because we work with scenarios not hypotheses intead. And rename column"
      ],
      "metadata": {
        "id": "-dumvPfzx8CL"
      }
    },
    {
      "cell_type": "code",
      "source": [
        "openai_df['h'] = openai_df['h'].str.replace('h', 's')\n",
        "llama_df['h'] = llama_df['h'].str.replace('h', 's')\n",
        "openai_df.rename(columns={'h':'s'}, inplace=True)\n",
        "llama_df.rename(columns={'h':'s'}, inplace=True)"
      ],
      "metadata": {
        "id": "AgeKoazex6aU"
      },
      "execution_count": null,
      "outputs": []
    },
    {
      "cell_type": "markdown",
      "source": [
        "# Checking dataframe created"
      ],
      "metadata": {
        "id": "LDnRPLjVwwQc"
      }
    },
    {
      "cell_type": "code",
      "source": [
        "openai_df.head()"
      ],
      "metadata": {
        "colab": {
          "base_uri": "https://localhost:8080/",
          "height": 206
        },
        "id": "x7qdJR-fw0gA",
        "outputId": "0ff3dab9-2507-42bf-f881-7bb859760c6b"
      },
      "execution_count": null,
      "outputs": [
        {
          "output_type": "execute_result",
          "data": {
            "text/plain": [
              "    s   model       metric  similarity\n",
              "0  s1  openai  bert_metric    0.988780\n",
              "2  s1  openai  bert_metric    1.000000\n",
              "4  s1  openai  bert_metric    0.993168\n",
              "6  s1  openai  bert_metric    0.994419\n",
              "8  s1  openai  bert_metric    0.951476"
            ],
            "text/html": [
              "\n",
              "  <div id=\"df-a26f1b11-0601-4a3f-9d54-2138c0915bf7\" class=\"colab-df-container\">\n",
              "    <div>\n",
              "<style scoped>\n",
              "    .dataframe tbody tr th:only-of-type {\n",
              "        vertical-align: middle;\n",
              "    }\n",
              "\n",
              "    .dataframe tbody tr th {\n",
              "        vertical-align: top;\n",
              "    }\n",
              "\n",
              "    .dataframe thead th {\n",
              "        text-align: right;\n",
              "    }\n",
              "</style>\n",
              "<table border=\"1\" class=\"dataframe\">\n",
              "  <thead>\n",
              "    <tr style=\"text-align: right;\">\n",
              "      <th></th>\n",
              "      <th>s</th>\n",
              "      <th>model</th>\n",
              "      <th>metric</th>\n",
              "      <th>similarity</th>\n",
              "    </tr>\n",
              "  </thead>\n",
              "  <tbody>\n",
              "    <tr>\n",
              "      <th>0</th>\n",
              "      <td>s1</td>\n",
              "      <td>openai</td>\n",
              "      <td>bert_metric</td>\n",
              "      <td>0.988780</td>\n",
              "    </tr>\n",
              "    <tr>\n",
              "      <th>2</th>\n",
              "      <td>s1</td>\n",
              "      <td>openai</td>\n",
              "      <td>bert_metric</td>\n",
              "      <td>1.000000</td>\n",
              "    </tr>\n",
              "    <tr>\n",
              "      <th>4</th>\n",
              "      <td>s1</td>\n",
              "      <td>openai</td>\n",
              "      <td>bert_metric</td>\n",
              "      <td>0.993168</td>\n",
              "    </tr>\n",
              "    <tr>\n",
              "      <th>6</th>\n",
              "      <td>s1</td>\n",
              "      <td>openai</td>\n",
              "      <td>bert_metric</td>\n",
              "      <td>0.994419</td>\n",
              "    </tr>\n",
              "    <tr>\n",
              "      <th>8</th>\n",
              "      <td>s1</td>\n",
              "      <td>openai</td>\n",
              "      <td>bert_metric</td>\n",
              "      <td>0.951476</td>\n",
              "    </tr>\n",
              "  </tbody>\n",
              "</table>\n",
              "</div>\n",
              "    <div class=\"colab-df-buttons\">\n",
              "\n",
              "  <div class=\"colab-df-container\">\n",
              "    <button class=\"colab-df-convert\" onclick=\"convertToInteractive('df-a26f1b11-0601-4a3f-9d54-2138c0915bf7')\"\n",
              "            title=\"Convert this dataframe to an interactive table.\"\n",
              "            style=\"display:none;\">\n",
              "\n",
              "  <svg xmlns=\"http://www.w3.org/2000/svg\" height=\"24px\" viewBox=\"0 -960 960 960\">\n",
              "    <path d=\"M120-120v-720h720v720H120Zm60-500h600v-160H180v160Zm220 220h160v-160H400v160Zm0 220h160v-160H400v160ZM180-400h160v-160H180v160Zm440 0h160v-160H620v160ZM180-180h160v-160H180v160Zm440 0h160v-160H620v160Z\"/>\n",
              "  </svg>\n",
              "    </button>\n",
              "\n",
              "  <style>\n",
              "    .colab-df-container {\n",
              "      display:flex;\n",
              "      gap: 12px;\n",
              "    }\n",
              "\n",
              "    .colab-df-convert {\n",
              "      background-color: #E8F0FE;\n",
              "      border: none;\n",
              "      border-radius: 50%;\n",
              "      cursor: pointer;\n",
              "      display: none;\n",
              "      fill: #1967D2;\n",
              "      height: 32px;\n",
              "      padding: 0 0 0 0;\n",
              "      width: 32px;\n",
              "    }\n",
              "\n",
              "    .colab-df-convert:hover {\n",
              "      background-color: #E2EBFA;\n",
              "      box-shadow: 0px 1px 2px rgba(60, 64, 67, 0.3), 0px 1px 3px 1px rgba(60, 64, 67, 0.15);\n",
              "      fill: #174EA6;\n",
              "    }\n",
              "\n",
              "    .colab-df-buttons div {\n",
              "      margin-bottom: 4px;\n",
              "    }\n",
              "\n",
              "    [theme=dark] .colab-df-convert {\n",
              "      background-color: #3B4455;\n",
              "      fill: #D2E3FC;\n",
              "    }\n",
              "\n",
              "    [theme=dark] .colab-df-convert:hover {\n",
              "      background-color: #434B5C;\n",
              "      box-shadow: 0px 1px 3px 1px rgba(0, 0, 0, 0.15);\n",
              "      filter: drop-shadow(0px 1px 2px rgba(0, 0, 0, 0.3));\n",
              "      fill: #FFFFFF;\n",
              "    }\n",
              "  </style>\n",
              "\n",
              "    <script>\n",
              "      const buttonEl =\n",
              "        document.querySelector('#df-a26f1b11-0601-4a3f-9d54-2138c0915bf7 button.colab-df-convert');\n",
              "      buttonEl.style.display =\n",
              "        google.colab.kernel.accessAllowed ? 'block' : 'none';\n",
              "\n",
              "      async function convertToInteractive(key) {\n",
              "        const element = document.querySelector('#df-a26f1b11-0601-4a3f-9d54-2138c0915bf7');\n",
              "        const dataTable =\n",
              "          await google.colab.kernel.invokeFunction('convertToInteractive',\n",
              "                                                    [key], {});\n",
              "        if (!dataTable) return;\n",
              "\n",
              "        const docLinkHtml = 'Like what you see? Visit the ' +\n",
              "          '<a target=\"_blank\" href=https://colab.research.google.com/notebooks/data_table.ipynb>data table notebook</a>'\n",
              "          + ' to learn more about interactive tables.';\n",
              "        element.innerHTML = '';\n",
              "        dataTable['output_type'] = 'display_data';\n",
              "        await google.colab.output.renderOutput(dataTable, element);\n",
              "        const docLink = document.createElement('div');\n",
              "        docLink.innerHTML = docLinkHtml;\n",
              "        element.appendChild(docLink);\n",
              "      }\n",
              "    </script>\n",
              "  </div>\n",
              "\n",
              "\n",
              "<div id=\"df-10e07cb0-d4a3-42e3-a513-e349b0570146\">\n",
              "  <button class=\"colab-df-quickchart\" onclick=\"quickchart('df-10e07cb0-d4a3-42e3-a513-e349b0570146')\"\n",
              "            title=\"Suggest charts\"\n",
              "            style=\"display:none;\">\n",
              "\n",
              "<svg xmlns=\"http://www.w3.org/2000/svg\" height=\"24px\"viewBox=\"0 0 24 24\"\n",
              "     width=\"24px\">\n",
              "    <g>\n",
              "        <path d=\"M19 3H5c-1.1 0-2 .9-2 2v14c0 1.1.9 2 2 2h14c1.1 0 2-.9 2-2V5c0-1.1-.9-2-2-2zM9 17H7v-7h2v7zm4 0h-2V7h2v10zm4 0h-2v-4h2v4z\"/>\n",
              "    </g>\n",
              "</svg>\n",
              "  </button>\n",
              "\n",
              "<style>\n",
              "  .colab-df-quickchart {\n",
              "      --bg-color: #E8F0FE;\n",
              "      --fill-color: #1967D2;\n",
              "      --hover-bg-color: #E2EBFA;\n",
              "      --hover-fill-color: #174EA6;\n",
              "      --disabled-fill-color: #AAA;\n",
              "      --disabled-bg-color: #DDD;\n",
              "  }\n",
              "\n",
              "  [theme=dark] .colab-df-quickchart {\n",
              "      --bg-color: #3B4455;\n",
              "      --fill-color: #D2E3FC;\n",
              "      --hover-bg-color: #434B5C;\n",
              "      --hover-fill-color: #FFFFFF;\n",
              "      --disabled-bg-color: #3B4455;\n",
              "      --disabled-fill-color: #666;\n",
              "  }\n",
              "\n",
              "  .colab-df-quickchart {\n",
              "    background-color: var(--bg-color);\n",
              "    border: none;\n",
              "    border-radius: 50%;\n",
              "    cursor: pointer;\n",
              "    display: none;\n",
              "    fill: var(--fill-color);\n",
              "    height: 32px;\n",
              "    padding: 0;\n",
              "    width: 32px;\n",
              "  }\n",
              "\n",
              "  .colab-df-quickchart:hover {\n",
              "    background-color: var(--hover-bg-color);\n",
              "    box-shadow: 0 1px 2px rgba(60, 64, 67, 0.3), 0 1px 3px 1px rgba(60, 64, 67, 0.15);\n",
              "    fill: var(--button-hover-fill-color);\n",
              "  }\n",
              "\n",
              "  .colab-df-quickchart-complete:disabled,\n",
              "  .colab-df-quickchart-complete:disabled:hover {\n",
              "    background-color: var(--disabled-bg-color);\n",
              "    fill: var(--disabled-fill-color);\n",
              "    box-shadow: none;\n",
              "  }\n",
              "\n",
              "  .colab-df-spinner {\n",
              "    border: 2px solid var(--fill-color);\n",
              "    border-color: transparent;\n",
              "    border-bottom-color: var(--fill-color);\n",
              "    animation:\n",
              "      spin 1s steps(1) infinite;\n",
              "  }\n",
              "\n",
              "  @keyframes spin {\n",
              "    0% {\n",
              "      border-color: transparent;\n",
              "      border-bottom-color: var(--fill-color);\n",
              "      border-left-color: var(--fill-color);\n",
              "    }\n",
              "    20% {\n",
              "      border-color: transparent;\n",
              "      border-left-color: var(--fill-color);\n",
              "      border-top-color: var(--fill-color);\n",
              "    }\n",
              "    30% {\n",
              "      border-color: transparent;\n",
              "      border-left-color: var(--fill-color);\n",
              "      border-top-color: var(--fill-color);\n",
              "      border-right-color: var(--fill-color);\n",
              "    }\n",
              "    40% {\n",
              "      border-color: transparent;\n",
              "      border-right-color: var(--fill-color);\n",
              "      border-top-color: var(--fill-color);\n",
              "    }\n",
              "    60% {\n",
              "      border-color: transparent;\n",
              "      border-right-color: var(--fill-color);\n",
              "    }\n",
              "    80% {\n",
              "      border-color: transparent;\n",
              "      border-right-color: var(--fill-color);\n",
              "      border-bottom-color: var(--fill-color);\n",
              "    }\n",
              "    90% {\n",
              "      border-color: transparent;\n",
              "      border-bottom-color: var(--fill-color);\n",
              "    }\n",
              "  }\n",
              "</style>\n",
              "\n",
              "  <script>\n",
              "    async function quickchart(key) {\n",
              "      const quickchartButtonEl =\n",
              "        document.querySelector('#' + key + ' button');\n",
              "      quickchartButtonEl.disabled = true;  // To prevent multiple clicks.\n",
              "      quickchartButtonEl.classList.add('colab-df-spinner');\n",
              "      try {\n",
              "        const charts = await google.colab.kernel.invokeFunction(\n",
              "            'suggestCharts', [key], {});\n",
              "      } catch (error) {\n",
              "        console.error('Error during call to suggestCharts:', error);\n",
              "      }\n",
              "      quickchartButtonEl.classList.remove('colab-df-spinner');\n",
              "      quickchartButtonEl.classList.add('colab-df-quickchart-complete');\n",
              "    }\n",
              "    (() => {\n",
              "      let quickchartButtonEl =\n",
              "        document.querySelector('#df-10e07cb0-d4a3-42e3-a513-e349b0570146 button');\n",
              "      quickchartButtonEl.style.display =\n",
              "        google.colab.kernel.accessAllowed ? 'block' : 'none';\n",
              "    })();\n",
              "  </script>\n",
              "</div>\n",
              "\n",
              "    </div>\n",
              "  </div>\n"
            ],
            "application/vnd.google.colaboratory.intrinsic+json": {
              "type": "dataframe",
              "variable_name": "openai_df",
              "summary": "{\n  \"name\": \"openai_df\",\n  \"rows\": 390,\n  \"fields\": [\n    {\n      \"column\": \"s\",\n      \"properties\": {\n        \"dtype\": \"category\",\n        \"num_unique_values\": 13,\n        \"samples\": [\n          \"s7\",\n          \"s9\",\n          \"s1\"\n        ],\n        \"semantic_type\": \"\",\n        \"description\": \"\"\n      }\n    },\n    {\n      \"column\": \"model\",\n      \"properties\": {\n        \"dtype\": \"category\",\n        \"num_unique_values\": 1,\n        \"samples\": [\n          \"openai\"\n        ],\n        \"semantic_type\": \"\",\n        \"description\": \"\"\n      }\n    },\n    {\n      \"column\": \"metric\",\n      \"properties\": {\n        \"dtype\": \"category\",\n        \"num_unique_values\": 1,\n        \"samples\": [\n          \"bert_metric\"\n        ],\n        \"semantic_type\": \"\",\n        \"description\": \"\"\n      }\n    },\n    {\n      \"column\": \"similarity\",\n      \"properties\": {\n        \"dtype\": \"number\",\n        \"std\": 0.020385881253579805,\n        \"min\": 0.909575343132019,\n        \"max\": 1.0,\n        \"num_unique_values\": 194,\n        \"samples\": [\n          0.9627313613891602\n        ],\n        \"semantic_type\": \"\",\n        \"description\": \"\"\n      }\n    }\n  ]\n}"
            }
          },
          "metadata": {},
          "execution_count": 19
        }
      ]
    },
    {
      "cell_type": "code",
      "source": [
        "llama_df.head()"
      ],
      "metadata": {
        "colab": {
          "base_uri": "https://localhost:8080/",
          "height": 206
        },
        "id": "C0JHExI8w1VL",
        "outputId": "54177726-b521-4d63-f862-d6c8d4bc92e2"
      },
      "execution_count": null,
      "outputs": [
        {
          "output_type": "execute_result",
          "data": {
            "text/plain": [
              "    s  model       metric  similarity\n",
              "1  s1  llama  bert_metric    0.987299\n",
              "3  s1  llama  bert_metric    0.994812\n",
              "5  s1  llama  bert_metric    0.983034\n",
              "7  s1  llama  bert_metric    0.970857\n",
              "9  s1  llama  bert_metric    0.971525"
            ],
            "text/html": [
              "\n",
              "  <div id=\"df-cfdc321d-d0b2-443e-9b10-2c3412091cc2\" class=\"colab-df-container\">\n",
              "    <div>\n",
              "<style scoped>\n",
              "    .dataframe tbody tr th:only-of-type {\n",
              "        vertical-align: middle;\n",
              "    }\n",
              "\n",
              "    .dataframe tbody tr th {\n",
              "        vertical-align: top;\n",
              "    }\n",
              "\n",
              "    .dataframe thead th {\n",
              "        text-align: right;\n",
              "    }\n",
              "</style>\n",
              "<table border=\"1\" class=\"dataframe\">\n",
              "  <thead>\n",
              "    <tr style=\"text-align: right;\">\n",
              "      <th></th>\n",
              "      <th>s</th>\n",
              "      <th>model</th>\n",
              "      <th>metric</th>\n",
              "      <th>similarity</th>\n",
              "    </tr>\n",
              "  </thead>\n",
              "  <tbody>\n",
              "    <tr>\n",
              "      <th>1</th>\n",
              "      <td>s1</td>\n",
              "      <td>llama</td>\n",
              "      <td>bert_metric</td>\n",
              "      <td>0.987299</td>\n",
              "    </tr>\n",
              "    <tr>\n",
              "      <th>3</th>\n",
              "      <td>s1</td>\n",
              "      <td>llama</td>\n",
              "      <td>bert_metric</td>\n",
              "      <td>0.994812</td>\n",
              "    </tr>\n",
              "    <tr>\n",
              "      <th>5</th>\n",
              "      <td>s1</td>\n",
              "      <td>llama</td>\n",
              "      <td>bert_metric</td>\n",
              "      <td>0.983034</td>\n",
              "    </tr>\n",
              "    <tr>\n",
              "      <th>7</th>\n",
              "      <td>s1</td>\n",
              "      <td>llama</td>\n",
              "      <td>bert_metric</td>\n",
              "      <td>0.970857</td>\n",
              "    </tr>\n",
              "    <tr>\n",
              "      <th>9</th>\n",
              "      <td>s1</td>\n",
              "      <td>llama</td>\n",
              "      <td>bert_metric</td>\n",
              "      <td>0.971525</td>\n",
              "    </tr>\n",
              "  </tbody>\n",
              "</table>\n",
              "</div>\n",
              "    <div class=\"colab-df-buttons\">\n",
              "\n",
              "  <div class=\"colab-df-container\">\n",
              "    <button class=\"colab-df-convert\" onclick=\"convertToInteractive('df-cfdc321d-d0b2-443e-9b10-2c3412091cc2')\"\n",
              "            title=\"Convert this dataframe to an interactive table.\"\n",
              "            style=\"display:none;\">\n",
              "\n",
              "  <svg xmlns=\"http://www.w3.org/2000/svg\" height=\"24px\" viewBox=\"0 -960 960 960\">\n",
              "    <path d=\"M120-120v-720h720v720H120Zm60-500h600v-160H180v160Zm220 220h160v-160H400v160Zm0 220h160v-160H400v160ZM180-400h160v-160H180v160Zm440 0h160v-160H620v160ZM180-180h160v-160H180v160Zm440 0h160v-160H620v160Z\"/>\n",
              "  </svg>\n",
              "    </button>\n",
              "\n",
              "  <style>\n",
              "    .colab-df-container {\n",
              "      display:flex;\n",
              "      gap: 12px;\n",
              "    }\n",
              "\n",
              "    .colab-df-convert {\n",
              "      background-color: #E8F0FE;\n",
              "      border: none;\n",
              "      border-radius: 50%;\n",
              "      cursor: pointer;\n",
              "      display: none;\n",
              "      fill: #1967D2;\n",
              "      height: 32px;\n",
              "      padding: 0 0 0 0;\n",
              "      width: 32px;\n",
              "    }\n",
              "\n",
              "    .colab-df-convert:hover {\n",
              "      background-color: #E2EBFA;\n",
              "      box-shadow: 0px 1px 2px rgba(60, 64, 67, 0.3), 0px 1px 3px 1px rgba(60, 64, 67, 0.15);\n",
              "      fill: #174EA6;\n",
              "    }\n",
              "\n",
              "    .colab-df-buttons div {\n",
              "      margin-bottom: 4px;\n",
              "    }\n",
              "\n",
              "    [theme=dark] .colab-df-convert {\n",
              "      background-color: #3B4455;\n",
              "      fill: #D2E3FC;\n",
              "    }\n",
              "\n",
              "    [theme=dark] .colab-df-convert:hover {\n",
              "      background-color: #434B5C;\n",
              "      box-shadow: 0px 1px 3px 1px rgba(0, 0, 0, 0.15);\n",
              "      filter: drop-shadow(0px 1px 2px rgba(0, 0, 0, 0.3));\n",
              "      fill: #FFFFFF;\n",
              "    }\n",
              "  </style>\n",
              "\n",
              "    <script>\n",
              "      const buttonEl =\n",
              "        document.querySelector('#df-cfdc321d-d0b2-443e-9b10-2c3412091cc2 button.colab-df-convert');\n",
              "      buttonEl.style.display =\n",
              "        google.colab.kernel.accessAllowed ? 'block' : 'none';\n",
              "\n",
              "      async function convertToInteractive(key) {\n",
              "        const element = document.querySelector('#df-cfdc321d-d0b2-443e-9b10-2c3412091cc2');\n",
              "        const dataTable =\n",
              "          await google.colab.kernel.invokeFunction('convertToInteractive',\n",
              "                                                    [key], {});\n",
              "        if (!dataTable) return;\n",
              "\n",
              "        const docLinkHtml = 'Like what you see? Visit the ' +\n",
              "          '<a target=\"_blank\" href=https://colab.research.google.com/notebooks/data_table.ipynb>data table notebook</a>'\n",
              "          + ' to learn more about interactive tables.';\n",
              "        element.innerHTML = '';\n",
              "        dataTable['output_type'] = 'display_data';\n",
              "        await google.colab.output.renderOutput(dataTable, element);\n",
              "        const docLink = document.createElement('div');\n",
              "        docLink.innerHTML = docLinkHtml;\n",
              "        element.appendChild(docLink);\n",
              "      }\n",
              "    </script>\n",
              "  </div>\n",
              "\n",
              "\n",
              "<div id=\"df-5c469548-a476-4217-9147-f571b57134c2\">\n",
              "  <button class=\"colab-df-quickchart\" onclick=\"quickchart('df-5c469548-a476-4217-9147-f571b57134c2')\"\n",
              "            title=\"Suggest charts\"\n",
              "            style=\"display:none;\">\n",
              "\n",
              "<svg xmlns=\"http://www.w3.org/2000/svg\" height=\"24px\"viewBox=\"0 0 24 24\"\n",
              "     width=\"24px\">\n",
              "    <g>\n",
              "        <path d=\"M19 3H5c-1.1 0-2 .9-2 2v14c0 1.1.9 2 2 2h14c1.1 0 2-.9 2-2V5c0-1.1-.9-2-2-2zM9 17H7v-7h2v7zm4 0h-2V7h2v10zm4 0h-2v-4h2v4z\"/>\n",
              "    </g>\n",
              "</svg>\n",
              "  </button>\n",
              "\n",
              "<style>\n",
              "  .colab-df-quickchart {\n",
              "      --bg-color: #E8F0FE;\n",
              "      --fill-color: #1967D2;\n",
              "      --hover-bg-color: #E2EBFA;\n",
              "      --hover-fill-color: #174EA6;\n",
              "      --disabled-fill-color: #AAA;\n",
              "      --disabled-bg-color: #DDD;\n",
              "  }\n",
              "\n",
              "  [theme=dark] .colab-df-quickchart {\n",
              "      --bg-color: #3B4455;\n",
              "      --fill-color: #D2E3FC;\n",
              "      --hover-bg-color: #434B5C;\n",
              "      --hover-fill-color: #FFFFFF;\n",
              "      --disabled-bg-color: #3B4455;\n",
              "      --disabled-fill-color: #666;\n",
              "  }\n",
              "\n",
              "  .colab-df-quickchart {\n",
              "    background-color: var(--bg-color);\n",
              "    border: none;\n",
              "    border-radius: 50%;\n",
              "    cursor: pointer;\n",
              "    display: none;\n",
              "    fill: var(--fill-color);\n",
              "    height: 32px;\n",
              "    padding: 0;\n",
              "    width: 32px;\n",
              "  }\n",
              "\n",
              "  .colab-df-quickchart:hover {\n",
              "    background-color: var(--hover-bg-color);\n",
              "    box-shadow: 0 1px 2px rgba(60, 64, 67, 0.3), 0 1px 3px 1px rgba(60, 64, 67, 0.15);\n",
              "    fill: var(--button-hover-fill-color);\n",
              "  }\n",
              "\n",
              "  .colab-df-quickchart-complete:disabled,\n",
              "  .colab-df-quickchart-complete:disabled:hover {\n",
              "    background-color: var(--disabled-bg-color);\n",
              "    fill: var(--disabled-fill-color);\n",
              "    box-shadow: none;\n",
              "  }\n",
              "\n",
              "  .colab-df-spinner {\n",
              "    border: 2px solid var(--fill-color);\n",
              "    border-color: transparent;\n",
              "    border-bottom-color: var(--fill-color);\n",
              "    animation:\n",
              "      spin 1s steps(1) infinite;\n",
              "  }\n",
              "\n",
              "  @keyframes spin {\n",
              "    0% {\n",
              "      border-color: transparent;\n",
              "      border-bottom-color: var(--fill-color);\n",
              "      border-left-color: var(--fill-color);\n",
              "    }\n",
              "    20% {\n",
              "      border-color: transparent;\n",
              "      border-left-color: var(--fill-color);\n",
              "      border-top-color: var(--fill-color);\n",
              "    }\n",
              "    30% {\n",
              "      border-color: transparent;\n",
              "      border-left-color: var(--fill-color);\n",
              "      border-top-color: var(--fill-color);\n",
              "      border-right-color: var(--fill-color);\n",
              "    }\n",
              "    40% {\n",
              "      border-color: transparent;\n",
              "      border-right-color: var(--fill-color);\n",
              "      border-top-color: var(--fill-color);\n",
              "    }\n",
              "    60% {\n",
              "      border-color: transparent;\n",
              "      border-right-color: var(--fill-color);\n",
              "    }\n",
              "    80% {\n",
              "      border-color: transparent;\n",
              "      border-right-color: var(--fill-color);\n",
              "      border-bottom-color: var(--fill-color);\n",
              "    }\n",
              "    90% {\n",
              "      border-color: transparent;\n",
              "      border-bottom-color: var(--fill-color);\n",
              "    }\n",
              "  }\n",
              "</style>\n",
              "\n",
              "  <script>\n",
              "    async function quickchart(key) {\n",
              "      const quickchartButtonEl =\n",
              "        document.querySelector('#' + key + ' button');\n",
              "      quickchartButtonEl.disabled = true;  // To prevent multiple clicks.\n",
              "      quickchartButtonEl.classList.add('colab-df-spinner');\n",
              "      try {\n",
              "        const charts = await google.colab.kernel.invokeFunction(\n",
              "            'suggestCharts', [key], {});\n",
              "      } catch (error) {\n",
              "        console.error('Error during call to suggestCharts:', error);\n",
              "      }\n",
              "      quickchartButtonEl.classList.remove('colab-df-spinner');\n",
              "      quickchartButtonEl.classList.add('colab-df-quickchart-complete');\n",
              "    }\n",
              "    (() => {\n",
              "      let quickchartButtonEl =\n",
              "        document.querySelector('#df-5c469548-a476-4217-9147-f571b57134c2 button');\n",
              "      quickchartButtonEl.style.display =\n",
              "        google.colab.kernel.accessAllowed ? 'block' : 'none';\n",
              "    })();\n",
              "  </script>\n",
              "</div>\n",
              "\n",
              "    </div>\n",
              "  </div>\n"
            ],
            "application/vnd.google.colaboratory.intrinsic+json": {
              "type": "dataframe",
              "variable_name": "llama_df",
              "summary": "{\n  \"name\": \"llama_df\",\n  \"rows\": 390,\n  \"fields\": [\n    {\n      \"column\": \"s\",\n      \"properties\": {\n        \"dtype\": \"category\",\n        \"num_unique_values\": 13,\n        \"samples\": [\n          \"s7\",\n          \"s9\",\n          \"s1\"\n        ],\n        \"semantic_type\": \"\",\n        \"description\": \"\"\n      }\n    },\n    {\n      \"column\": \"model\",\n      \"properties\": {\n        \"dtype\": \"category\",\n        \"num_unique_values\": 1,\n        \"samples\": [\n          \"llama\"\n        ],\n        \"semantic_type\": \"\",\n        \"description\": \"\"\n      }\n    },\n    {\n      \"column\": \"metric\",\n      \"properties\": {\n        \"dtype\": \"category\",\n        \"num_unique_values\": 1,\n        \"samples\": [\n          \"bert_metric\"\n        ],\n        \"semantic_type\": \"\",\n        \"description\": \"\"\n      }\n    },\n    {\n      \"column\": \"similarity\",\n      \"properties\": {\n        \"dtype\": \"number\",\n        \"std\": 0.024474332011384884,\n        \"min\": 0.8808419704437256,\n        \"max\": 1.0,\n        \"num_unique_values\": 189,\n        \"samples\": [\n          0.971109748\n        ],\n        \"semantic_type\": \"\",\n        \"description\": \"\"\n      }\n    }\n  ]\n}"
            }
          },
          "metadata": {},
          "execution_count": 20
        }
      ]
    },
    {
      "cell_type": "markdown",
      "source": [
        "# Getting overall the mean and standard deviation"
      ],
      "metadata": {
        "id": "kNfqzVsi75Sw"
      }
    },
    {
      "cell_type": "code",
      "source": [
        "openai_df_all_mean = openai_df['similarity'].mean()\n",
        "openai_df_all_std = openai_df['similarity'].std()\n",
        "llama_df_all_mean = llama_df['similarity'].mean()\n",
        "llama_df_all_std = llama_df['similarity'].std()\n",
        "openai_df_all_length = len(openai_df)\n",
        "llama_df_all_length = len(llama_df)\n",
        "print(f\"OpenAI all scenarios mean: {openai_df_all_mean}\")\n",
        "print(f\"OpenAI all scenarios std: {openai_df_all_std}\")\n",
        "print(f\"Llama all scenarios mean: {llama_df_all_mean}\")\n",
        "print(f\"Llama all scenarios std: {llama_df_all_std}\")\n",
        "print(f\"OpenAI all scenarios len: {openai_df_all_length}\")\n",
        "print(f\"Llama all scenarios len: {llama_df_all_length}\")"
      ],
      "metadata": {
        "colab": {
          "base_uri": "https://localhost:8080/"
        },
        "id": "d3O7l4tn78vy",
        "outputId": "5c8fd571-5887-480c-bfc9-67716b23639b"
      },
      "execution_count": null,
      "outputs": [
        {
          "output_type": "stream",
          "name": "stdout",
          "text": [
            "OpenAI all scenarios mean: 0.9684053543262956\n",
            "OpenAI all scenarios std: 0.020385881253579805\n",
            "Llama all scenarios mean: 0.9649938265550888\n",
            "Llama all scenarios std: 0.024474332011384884\n",
            "OpenAI all scenarios len: 390\n",
            "Llama all scenarios len: 390\n"
          ]
        }
      ]
    },
    {
      "cell_type": "markdown",
      "source": [
        "# Getting the mean and standard deviation from each scenario"
      ],
      "metadata": {
        "id": "d-NqmcrYB5yc"
      }
    },
    {
      "cell_type": "code",
      "source": [
        "columns_list = ['s','model','metric']\n",
        "openai_df_mean = openai_df.groupby(columns_list).mean()\n",
        "openai_df_std = openai_df.groupby(columns_list).std()\n",
        "openai_df_length = openai_df.groupby(columns_list).size()\n",
        "\n",
        "llama_df_mean = llama_df.groupby(columns_list).mean()\n",
        "llama_df_std = llama_df.groupby(columns_list).std()\n",
        "llama_df_length = llama_df.groupby(columns_list).size()"
      ],
      "metadata": {
        "id": "6C_fQVZH30sQ"
      },
      "execution_count": null,
      "outputs": []
    },
    {
      "cell_type": "markdown",
      "source": [
        "# Reset index before dropping columns"
      ],
      "metadata": {
        "id": "ycw4w7UmAh8B"
      }
    },
    {
      "cell_type": "code",
      "source": [
        "openai_df_mean = openai_df_mean.reset_index()\n",
        "openai_df_std = openai_df_std.reset_index()\n",
        "llama_df_mean = llama_df_mean.reset_index()\n",
        "llama_df_std = llama_df_std.reset_index()"
      ],
      "metadata": {
        "id": "HF3JiaPQAELs"
      },
      "execution_count": null,
      "outputs": []
    },
    {
      "cell_type": "markdown",
      "source": [
        "# Dropping columns model and metric"
      ],
      "metadata": {
        "id": "2RsvR7Go736G"
      }
    },
    {
      "cell_type": "code",
      "source": [
        "columns_list = ['model','metric']\n",
        "openai_df_mean.drop(columns=columns_list, inplace=True)\n",
        "openai_df_std.drop(columns=columns_list, inplace=True)\n",
        "openai_df.drop(columns=columns_list, inplace=True)\n",
        "llama_df_mean.drop(columns=columns_list, inplace=True)\n",
        "llama_df_std.drop(columns=columns_list, inplace=True)\n",
        "llama_df.drop(columns=columns_list, inplace=True)"
      ],
      "metadata": {
        "id": "LAgkkqGI-spU"
      },
      "execution_count": null,
      "outputs": []
    },
    {
      "cell_type": "markdown",
      "source": [
        "# Analyzing All Scenarios (0..12) of OpenAI"
      ],
      "metadata": {
        "id": "rbkeYtAvEg9K"
      }
    },
    {
      "cell_type": "code",
      "source": [
        "mu = openai_df_all_mean\n",
        "sigma = openai_df_all_std\n",
        "x = np.linspace(mu - 3.5*sigma, mu + 3.5*sigma, 100)\n",
        "y = stats.norm.pdf(x, mu, sigma)\n",
        "\n",
        "# Scale down the y-values of the lineplot\n",
        "y_scaled = y * 4  # Adjust scaling factor as needed\n",
        "\n",
        "fig, ax = plt.subplots(figsize=(10, 6)) # Adjust figsize\n",
        "ax1 = sns.histplot(openai_df['similarity'].where(openai_df['s'].str.contains('s')).dropna(how='all'))\n",
        "\n",
        "ax2 = sns.lineplot(x=x,y=y_scaled, color='black')\n",
        "\n",
        "plt.ylim(bottom=-1)\n",
        "plt.xlim([mu - 4*sigma, mu + 4*sigma])  # Adjust xlim\n",
        "\n",
        "ax1.set_frame_on(False)\n",
        "ax1.axes.get_yaxis().set_visible(False)\n",
        "\n",
        "plt.close()\n",
        "\n",
        "glue(\"zeppo-fig\", fig, display=True)"
      ],
      "metadata": {
        "colab": {
          "base_uri": "https://localhost:8080/",
          "height": 542
        },
        "id": "M8ESnaUK3_ZD",
        "outputId": "b0c81886-7ab8-4f4b-e981-9d7674256e6f"
      },
      "execution_count": null,
      "outputs": [
        {
          "output_type": "display_data",
          "data": {
            "text/plain": [
              "<Figure size 1000x600 with 1 Axes>"
            ],
            "image/png": "[encoded data removed]"
          },
          "metadata": {
            "scrapbook": {
              "name": "zeppo-fig",
              "mime_prefix": ""
            }
          }
        }
      ]
    },
    {
      "cell_type": "markdown",
      "source": [
        "# Analyzing All Scenarios (0..12) of Llama"
      ],
      "metadata": {
        "id": "p_Z35xhoQfzq"
      }
    },
    {
      "cell_type": "code",
      "source": [
        "mu = llama_df_all_mean\n",
        "sigma = llama_df_all_std\n",
        "x = np.linspace(mu - 3.5*sigma, mu + 3.5*sigma, 100)\n",
        "y = stats.norm.pdf(x, mu, sigma)\n",
        "\n",
        "# Scale down the y-values of the lineplot\n",
        "y_scaled = y * 4  # Adjust scaling factor as needed\n",
        "\n",
        "fig, ax = plt.subplots(figsize=(10, 6)) # Adjust figsize\n",
        "ax1 = sns.histplot(llama_df['similarity'].where(llama_df['s'].str.contains('s')).dropna(how='all'))\n",
        "\n",
        "ax2 = sns.lineplot(x=x,y=y_scaled, color='black')\n",
        "\n",
        "plt.ylim(bottom=-1)\n",
        "plt.xlim([mu - 4*sigma, mu + 4*sigma])  # Adjust xlim\n",
        "\n",
        "ax1.set_frame_on(False)\n",
        "ax1.axes.get_yaxis().set_visible(False)\n",
        "\n",
        "plt.close()\n",
        "\n",
        "glue(\"zeppo-fig\", fig, display=True)"
      ],
      "metadata": {
        "colab": {
          "base_uri": "https://localhost:8080/",
          "height": 542
        },
        "id": "6qDR2La2QhTO",
        "outputId": "dc1ab914-073d-4e7a-dbd9-f724ab71edc0"
      },
      "execution_count": null,
      "outputs": [
        {
          "output_type": "display_data",
          "data": {
            "text/plain": [
              "<Figure size 1000x600 with 1 Axes>"
            ],
            "image/png": "[encoded data removed]"
          },
          "metadata": {
            "scrapbook": {
              "name": "zeppo-fig",
              "mime_prefix": ""
            }
          }
        }
      ]
    },
    {
      "cell_type": "markdown",
      "source": [
        "# Shapiro-Wilk checking all scenarios (0..12)"
      ],
      "metadata": {
        "id": "5Zv9dij8SLDx"
      }
    },
    {
      "cell_type": "code",
      "source": [
        "shapiro_openai, p_value_openai = stats.shapiro(openai_df['similarity'].where(openai_df['s'].str.contains('s')).dropna(how='all'))\n",
        "shapiro_llama, p_value_llama = stats.shapiro(llama_df['similarity'].where(llama_df['s'].str.contains('s')).dropna(how='all'))"
      ],
      "metadata": {
        "id": "hzOvaSbpSV8r"
      },
      "execution_count": null,
      "outputs": []
    },
    {
      "cell_type": "code",
      "source": [
        "print(f\"Shapiro-Wilk test for OpenAI: Statistic={shapiro_openai}, p-value={p_value_openai}\")\n",
        "print(f\"Shapiro-Wilk test for Llama: Statistic={shapiro_llama}, p-value={p_value_llama}\")"
      ],
      "metadata": {
        "colab": {
          "base_uri": "https://localhost:8080/"
        },
        "id": "MVYie3PwSmoK",
        "outputId": "25cc56cd-9084-445c-a5db-bb7045797750"
      },
      "execution_count": null,
      "outputs": [
        {
          "output_type": "stream",
          "name": "stdout",
          "text": [
            "Shapiro-Wilk test for OpenAI: Statistic=0.9394214458926995, p-value=1.6317675045593743e-11\n",
            "Shapiro-Wilk test for Llama: Statistic=0.9310339766036464, p-value=1.9281503621138604e-12\n"
          ]
        }
      ]
    },
    {
      "cell_type": "markdown",
      "source": [
        "# ***It was observed p-value from OpenAI and Llama are not normally distributed.***"
      ],
      "metadata": {
        "id": "I_Qlid8ET1vT"
      }
    },
    {
      "cell_type": "markdown",
      "source": [
        "## Utilizing Kolmogorov-Smirnov Test"
      ],
      "metadata": {
        "id": "GmjmlaLvOTdG"
      }
    },
    {
      "cell_type": "code",
      "source": [
        "s_mean_openai = openai_df_mean.similarity.values[0]\n",
        "s_std_openai = openai_df_std.similarity.values[0]\n",
        "ks_openai, ks_p_openai = stats.kstest(openai_df.similarity, 'norm', args=(s_mean_openai, s_std_openai))\n",
        "print(f\"K-S Statistic for OpenAI: Statistic={ks_openai}, p-value={ks_p_openai}\")"
      ],
      "metadata": {
        "colab": {
          "base_uri": "https://localhost:8080/"
        },
        "id": "PVz0ozlnODoO",
        "outputId": "b30a431f-902a-4951-b42a-8f69b55553e2"
      },
      "execution_count": null,
      "outputs": [
        {
          "output_type": "stream",
          "name": "stdout",
          "text": [
            "K-S Statistic for OpenAI: Statistic=0.3586629419515835, p-value=2.0118402201064738e-45\n"
          ]
        }
      ]
    },
    {
      "cell_type": "code",
      "source": [
        "s_mean_llama = llama_df_mean.similarity.values[0]\n",
        "s_std_llama = llama_df_std.similarity.values[0]\n",
        "ks_llama, ks_p_llama = stats.kstest(llama_df.similarity, 'norm', args=(s_mean_llama, s_std_llama))\n",
        "print(f\"K-S Statistic for Llama: Statistic={ks_llama}, p-value={ks_p_llama}\")"
      ],
      "metadata": {
        "colab": {
          "base_uri": "https://localhost:8080/"
        },
        "id": "_9DBFANsUHdg",
        "outputId": "c98be3b6-90c5-4e60-af8d-c5fd47db9552"
      },
      "execution_count": null,
      "outputs": [
        {
          "output_type": "stream",
          "name": "stdout",
          "text": [
            "K-S Statistic for Llama: Statistic=0.14983246401718317, p-value=4.154231414044244e-08\n"
          ]
        }
      ]
    },
    {
      "cell_type": "markdown",
      "source": [
        "# Right now, I am going to evaluate each scenario checking if th Scenario 0  can be likely Hypothesis null"
      ],
      "metadata": {
        "id": "_o7D6AnGzMmx"
      }
    },
    {
      "cell_type": "markdown",
      "source": [
        "# S0 scenario to OpenAI"
      ],
      "metadata": {
        "id": "wLSI7U26U0jf"
      }
    },
    {
      "cell_type": "code",
      "source": [
        "shapiro_openai_s0, p_value_openai_s0 = stats.shapiro(openai_df['similarity'].where(openai_df['s'].str.contains('s0')).dropna(how='all'))\n",
        "print(f\"Shapiro-Wilk test for OpenAI: Statistic={shapiro_openai_s0}, p-value={p_value_openai_s0}\")"
      ],
      "metadata": {
        "colab": {
          "base_uri": "https://localhost:8080/"
        },
        "id": "nbeQ72Wz7V-1",
        "outputId": "70247f20-0ae1-4ef8-d5d0-772f6d0f0430"
      },
      "execution_count": null,
      "outputs": [
        {
          "output_type": "stream",
          "name": "stdout",
          "text": [
            "Shapiro-Wilk test for OpenAI: Statistic=0.9454475431907869, p-value=0.1275465155259069\n"
          ]
        }
      ]
    },
    {
      "cell_type": "markdown",
      "source": [
        "# Using Q-QPLOT to see the data are normally distributed from S0"
      ],
      "metadata": {
        "id": "OKvtTKEu95hX"
      }
    },
    {
      "cell_type": "code",
      "source": [
        "sm.qqplot(openai_df['similarity'].where(openai_df['s'].str.contains('s0')).dropna(how='all'), line='s')\n",
        "plt.show()"
      ],
      "metadata": {
        "colab": {
          "base_uri": "https://localhost:8080/",
          "height": 449
        },
        "id": "RFKX7gdx8mot",
        "outputId": "8ae93df3-475d-4dd7-941b-e17f325f9603"
      },
      "execution_count": null,
      "outputs": [
        {
          "output_type": "display_data",
          "data": {
            "text/plain": [
              "<Figure size 640x480 with 1 Axes>"
            ],
            "image/png": "[encoded data removed]"
          },
          "metadata": {}
        }
      ]
    },
    {
      "cell_type": "code",
      "source": [
        "mu = openai_df_mean.similarity.where(openai_df_mean['s'].str.contains('s0')).dropna(how='all').values[0]\n",
        "sigma = openai_df_std.similarity.where(openai_df_std['s'].str.contains('s0')).dropna(how='all').values[0]\n",
        "x = np.linspace(mu - 3.5*sigma, mu + 3.5*sigma, 100)\n",
        "y = stats.norm.pdf(x, mu, sigma)\n",
        "\n",
        "# Scale down the y-values of the lineplot\n",
        "y_scaled = y * 0.12  # Adjust scaling factor as needed\n",
        "\n",
        "fig, ax = plt.subplots(figsize=(10, 6)) # Adjust figsize\n",
        "ax1 = sns.histplot(openai_df['similarity'].where(openai_df['s'].str.contains('s0')).dropna(how='all'))\n",
        "\n",
        "ax2 = sns.lineplot(x=x,y=y_scaled, color='black')\n",
        "\n",
        "plt.ylim(bottom=-1)\n",
        "plt.xlim([mu - 4*sigma, mu + 4*sigma])  # Adjust xlim\n",
        "\n",
        "ax1.set_frame_on(False)\n",
        "ax1.axes.get_yaxis().set_visible(False)\n",
        "\n",
        "plt.close()\n",
        "\n",
        "glue(\"zeppo-fig\", fig, display=True)"
      ],
      "metadata": {
        "colab": {
          "base_uri": "https://localhost:8080/",
          "height": 542
        },
        "id": "IlI94HqB-ndv",
        "outputId": "71aaa93c-9633-4e7a-9f59-bebadfc45604"
      },
      "execution_count": null,
      "outputs": [
        {
          "output_type": "display_data",
          "data": {
            "text/plain": [
              "<Figure size 1000x600 with 1 Axes>"
            ],
            "image/png": "[encoded data removed]"
          },
          "metadata": {
            "scrapbook": {
              "name": "zeppo-fig",
              "mime_prefix": ""
            }
          }
        }
      ]
    },
    {
      "cell_type": "markdown",
      "source": [
        "# Applying Anderson-Darling Test knowing that:\n",
        "## H null = my data are normality\n",
        "## Using the Scenario 0 (s0)\n",
        "\n",
        "---"
      ],
      "metadata": {
        "id": "cq0T5Px7aJsc"
      }
    },
    {
      "cell_type": "code",
      "source": [
        "result = stats.anderson(openai_df['similarity'].where(openai_df['s'].str.contains('s0')).dropna(how='all'))\n",
        "print(f\"AD Statistic: {result.statistic}\")\n",
        "print(f\"Critical Values: {result.critical_values}\")\n",
        "print(f\"Significance Levels: {result.significance_level}\")"
      ],
      "metadata": {
        "colab": {
          "base_uri": "https://localhost:8080/"
        },
        "id": "PuZzC1qubQl_",
        "outputId": "c5c511ee-848a-408b-ba5e-c875e803b092"
      },
      "execution_count": null,
      "outputs": [
        {
          "output_type": "stream",
          "name": "stdout",
          "text": [
            "AD Statistic: 0.5070333964705469\n",
            "Critical Values: [0.521 0.593 0.712 0.83  0.988]\n",
            "Significance Levels: [15.  10.   5.   2.5  1. ]\n"
          ]
        }
      ]
    },
    {
      "cell_type": "markdown",
      "source": [
        "Output Interpretation\n",
        "AD Statistic (A²): The test statistic (larger = stronger evidence against normality).\n",
        "\n",
        "Critical Values: Thresholds at different significance levels (15%, 10%, 5%, 2.5%, 1%).\n",
        "\n",
        "Significance Levels: Corresponding alpha levels (0.15, 0.10, 0.05, 0.025, 0.01).\n",
        "\n",
        "Decision Rule (Modified for Your H₀)\n",
        "Compare A² against critical values.\n",
        "\n",
        "If A² > critical value at (e.g., 5%) → Reject H₁ (data is not normal).\n",
        "\n",
        "If A² ≤ critical value → Fail to reject H₀ (data may not be normal).\n",
        "\n",
        "(Normally, A² > critical value → reject normality. Here, we’re flipping the logic to fit your H₀.)"
      ],
      "metadata": {
        "id": "qHUKz-N9bzsB"
      }
    },
    {
      "cell_type": "markdown",
      "source": [
        "# Applying Kolmogorov-Smirnov (KS) Test knowing that:\n",
        "## H null = my data are normality\n",
        "## Using the Scenario 0 (s0)\n",
        "---\n"
      ],
      "metadata": {
        "id": "qKCqrWxqZG2z"
      }
    },
    {
      "cell_type": "code",
      "source": [
        "s0_mean = openai_df_mean.similarity.where(openai_df_mean['s'].str.contains('s0')).dropna(how='all').values[0]\n",
        "s0_std = openai_df_std.similarity.where(openai_df_std['s'].str.contains('s0')).dropna(how='all').values[0]"
      ],
      "metadata": {
        "id": "zP-MhtNZZe7I"
      },
      "execution_count": null,
      "outputs": []
    },
    {
      "cell_type": "code",
      "source": [
        "ks_openai_s0, ks_p_openai_s0 = stats.kstest(openai_df['similarity'].where(openai_df['s'].str.contains('s0')).dropna(how='all'), 'norm', args=(s0_mean, s0_std))\n",
        "print(f\"K-S Statistic for OpenAI: Statistic={ks_openai_s0}, p-value={ks_p_openai_s0}\")"
      ],
      "metadata": {
        "colab": {
          "base_uri": "https://localhost:8080/"
        },
        "id": "V_g4-FTeZ32H",
        "outputId": "f85c7763-5a59-43a3-c6e1-64983d734cb9"
      },
      "execution_count": null,
      "outputs": [
        {
          "output_type": "stream",
          "name": "stdout",
          "text": [
            "K-S Statistic for OpenAI: Statistic=0.11887370376269579, p-value=0.7463707846602057\n"
          ]
        }
      ]
    },
    {
      "cell_type": "markdown",
      "source": [
        "# Applying Jarque-Bera Test knowing that:\n",
        "## H null = my data are normality\n",
        "## Using the Scenario 0 (s0)\n",
        "---"
      ],
      "metadata": {
        "id": "0GTBulnbcBA-"
      }
    },
    {
      "cell_type": "code",
      "source": [
        "jb_openai_s0, jb_p_openai_s0 = stats.jarque_bera(openai_df['similarity'].where(openai_df['s'].str.contains('s0')).dropna(how='all'))\n",
        "print(f\"JB Statistic for OpenAI: Statistic={jb_openai_s0}, p-value={jb_p_openai_s0}\")"
      ],
      "metadata": {
        "colab": {
          "base_uri": "https://localhost:8080/"
        },
        "id": "VkWZUKfjcHkX",
        "outputId": "443f5f27-77f6-4841-a95e-17b755e200d1"
      },
      "execution_count": null,
      "outputs": [
        {
          "output_type": "stream",
          "name": "stdout",
          "text": [
            "JB Statistic for OpenAI: Statistic=1.0174979972525822, p-value=0.6012472696913941\n"
          ]
        }
      ]
    },
    {
      "cell_type": "markdown",
      "source": [
        "# If we uses as Hypothesis null: The data are normally distributed. We have as result:\n",
        "\n",
        "1.   Shapiro-Wilk (SW) test:\n",
        "*   Interpretation: Since p > 0.05, we fail to reject H null\n",
        "*   Conclusion: The data does not significantly deviate from normality\n",
        "2.   Anderson-Darling (AD) test:\n",
        "*   Compare the AD Stats to the Critical value (CV)\n",
        "*   AD > CV at a given significance level, reject normality at that level\n",
        "*   0.50 < 0.521 (15%) -> Fail to reject H null at all significance levels\n",
        "*   Conclusion: No evidence against normality\n",
        "3.   Kolmogorov-Smirnov (KS) test:\n",
        "*   Interpretation: Since p > 0.05, we fail to reject H null\n",
        "*   Conclusion: The data is consistent with a normal distribution.\n",
        "4.   Jarque-Bera (JB) test:\n",
        "*   Interpretation: Since p > 0.05, we fail to reject H null\n",
        "*   Conclusion: The data does not show significant skewness or excess kurtosis (supports normality).\n"
      ],
      "metadata": {
        "id": "Foe6EM7Yf94Q"
      }
    },
    {
      "cell_type": "markdown",
      "source": [
        "# Final Summary Table\n",
        "\n",
        "Test\t            |Statistic|\tp-value / Critical Value\t|Conclusion\n",
        "------------------|---------|---------------------------|----------\n",
        "Shapiro-Wilk\t    |  0.954\t|    p = 0.127 (> 0.05)\t    |✅ Normal\n",
        "Anderson-Darling  |\t 0.507\t|    < 0.521 (15% CV)\t      |✅ Normal\n",
        "Kolmogorov-Smirnov|\t 0.118\t|    p = 0.746 (> 0.05)\t    |✅ Normal\n",
        "Jarque-Bera\t      |  1.017\t|    p = 0.601 (> 0.05)\t    |✅ Normal\n"
      ],
      "metadata": {
        "id": "cQOwXX_Gj8Mh"
      }
    },
    {
      "cell_type": "markdown",
      "source": [
        "# Right, we can proceed with t-tests in pairs.\n",
        "# With prior that my Hypothesis alternative saying my others scenarios are not normal"
      ],
      "metadata": {
        "id": "3yWR08H0lyxM"
      }
    },
    {
      "cell_type": "code",
      "source": [
        "df_s0_openai = openai_df['similarity'].where(openai_df['s'].str.contains('s0')).dropna(how='all')\n",
        "s0_mean = openai_df_mean.similarity.where(openai_df_mean['s'].str.contains('s0')).dropna(how='all').values[0]\n",
        "s0_std = openai_df_std.similarity.where(openai_df_std['s'].str.contains('s0')).dropna(how='all').values[0]\n",
        "\n",
        "df_s1_openai = openai_df['similarity'].where(openai_df['s'] == 's1').dropna(how='all')\n",
        "s1_mean = openai_df_mean.similarity.where(openai_df_mean['s'] == 's1').dropna(how='all').values[0]\n",
        "s1_std = openai_df_std.similarity.where(openai_df_std['s'] == 's1').dropna(how='all').values[0]\n",
        "\n",
        "df_s2_openai = openai_df['similarity'].where(openai_df['s'].str.contains('s2')).dropna(how='all')\n",
        "s2_mean = openai_df_mean.similarity.where(openai_df_mean['s'].str.contains('s2')).dropna(how='all').values[0]\n",
        "s2_std = openai_df_std.similarity.where(openai_df_std['s'].str.contains('s2')).dropna(how='all').values[0]\n",
        "\n",
        "df_s3_openai = openai_df['similarity'].where(openai_df['s'].str.contains('s3')).dropna(how='all')\n",
        "s3_mean = openai_df_mean.similarity.where(openai_df_mean['s'].str.contains('s3')).dropna(how='all').values[0]\n",
        "s3_std = openai_df_std.similarity.where(openai_df_std['s'].str.contains('s3')).dropna(how='all').values[0]\n",
        "\n",
        "df_s4_openai = openai_df['similarity'].where(openai_df['s'].str.contains('s4')).dropna(how='all')\n",
        "s4_mean = openai_df_mean.similarity.where(openai_df_mean['s'].str.contains('s4')).dropna(how='all').values[0]\n",
        "s4_std = openai_df_std.similarity.where(openai_df_std['s'].str.contains('s4')).dropna(how='all').values[0]\n",
        "\n",
        "df_s5_openai = openai_df['similarity'].where(openai_df['s'].str.contains('s5')).dropna(how='all')\n",
        "s5_mean = openai_df_mean.similarity.where(openai_df_mean['s'].str.contains('s5')).dropna(how='all').values[0]\n",
        "s5_std = openai_df_std.similarity.where(openai_df_std['s'].str.contains('s5')).dropna(how='all').values[0]\n",
        "\n",
        "df_s6_openai = openai_df['similarity'].where(openai_df['s'].str.contains('s6')).dropna(how='all')\n",
        "s6_mean = openai_df_mean.similarity.where(openai_df_mean['s'].str.contains('s6')).dropna(how='all').values[0]\n",
        "s6_std = openai_df_std.similarity.where(openai_df_std['s'].str.contains('s6')).dropna(how='all').values[0]\n",
        "\n",
        "df_s7_openai = openai_df['similarity'].where(openai_df['s'].str.contains('s7')).dropna(how='all')\n",
        "s7_mean = openai_df_mean.similarity.where(openai_df_mean['s'].str.contains('s7')).dropna(how='all').values[0]\n",
        "s7_std = openai_df_std.similarity.where(openai_df_std['s'].str.contains('s7')).dropna(how='all').values[0]\n",
        "\n",
        "df_s8_openai = openai_df['similarity'].where(openai_df['s'].str.contains('s8')).dropna(how='all')\n",
        "s8_mean = openai_df_mean.similarity.where(openai_df_mean['s'].str.contains('s8')).dropna(how='all').values[0]\n",
        "s8_std = openai_df_std.similarity.where(openai_df_std['s'].str.contains('s8')).dropna(how='all').values[0]\n",
        "\n",
        "df_s9_openai = openai_df['similarity'].where(openai_df['s'].str.contains('s9')).dropna(how='all')\n",
        "s9_mean = openai_df_mean.similarity.where(openai_df_mean['s'].str.contains('s9')).dropna(how='all').values[0]\n",
        "s9_std = openai_df_std.similarity.where(openai_df_std['s'].str.contains('s9')).dropna(how='all').values[0]\n",
        "\n",
        "df_s10_openai = openai_df['similarity'].where(openai_df['s'].str.contains('s10')).dropna(how='all')\n",
        "s10_mean = openai_df_mean.similarity.where(openai_df_mean['s'].str.contains('s10')).dropna(how='all').values[0]\n",
        "s10_std = openai_df_std.similarity.where(openai_df_std['s'].str.contains('s10')).dropna(how='all').values[0]\n",
        "\n",
        "df_s11_openai = openai_df['similarity'].where(openai_df['s'].str.contains('s11')).dropna(how='all')\n",
        "s11_mean = openai_df_mean.similarity.where(openai_df_mean['s'].str.contains('s11')).dropna(how='all').values[0]\n",
        "s11_std = openai_df_std.similarity.where(openai_df_std['s'].str.contains('s11')).dropna(how='all').values[0]\n",
        "\n",
        "df_s12_openai = openai_df['similarity'].where(openai_df['s'].str.contains('s12')).dropna(how='all')\n",
        "s12_mean = openai_df_mean.similarity.where(openai_df_mean['s'].str.contains('s12')).dropna(how='all').values[0]\n",
        "s12_std = openai_df_std.similarity.where(openai_df_std['s'].str.contains('s12')).dropna(how='all').values[0]"
      ],
      "metadata": {
        "id": "mCrhlcN5grZt"
      },
      "execution_count": null,
      "outputs": []
    },
    {
      "cell_type": "markdown",
      "source": [
        "# Perform One-Sample T-Test S0 and S1"
      ],
      "metadata": {
        "id": "eQtu4UPqdCk5"
      }
    },
    {
      "cell_type": "code",
      "source": [
        "result_ttest = stats.ttest_ind(df_s0_openai, df_s1_openai)\n",
        "print(f\"T-Test Statistic: {result_ttest.statistic}\")\n",
        "print(f\"p-value: {result_ttest.pvalue}\")\n",
        "print(f\"degrees of freedom: {result_ttest.df}\")"
      ],
      "metadata": {
        "colab": {
          "base_uri": "https://localhost:8080/"
        },
        "id": "NCjgox_kdOEF",
        "outputId": "87d5270b-1754-413b-d511-b0f3133d26a7"
      },
      "execution_count": null,
      "outputs": [
        {
          "output_type": "stream",
          "name": "stdout",
          "text": [
            "T-Test Statistic: -1.948291867611481\n",
            "p-value: 0.05622409474618722\n",
            "degrees of freedom: 58.0\n"
          ]
        }
      ]
    },
    {
      "cell_type": "markdown",
      "source": [
        "Understand the result:\n",
        "*   T-Test Statistic = -1.948291867611481\n",
        "      \n",
        "      The negative sign indicates S1’s mean is lower than S0’s mean.\n",
        "      The magnitude (1.948) suggests the difference is 1.95 standard errors away from S0.\n",
        "\n",
        "*   P-Value = 0.05622409474618722\n",
        "      \n",
        "      Considering p <= 0.05 reject H0 and p > 0.05 fail to reject H0.\n",
        "      My conclusion is these scenarios are very close significantly\n",
        "\n",
        "*   Degree of Freedom (DF) = 145\n",
        "\n",
        "      Larger df = More reliable t-distribution (closer to normal)."
      ],
      "metadata": {
        "id": "8bOcO9SyiB4X"
      }
    },
    {
      "cell_type": "markdown",
      "source": [
        "# Calculate the Cohen's d to check how large the difference is between S0 and S1:"
      ],
      "metadata": {
        "id": "23ptN9carw0Y"
      }
    },
    {
      "cell_type": "code",
      "source": [
        "pooled_std = np.sqrt(((len(df_s0_openai)-1*(s0_std**2) + (len(df_s1_openai)-1*(s1_std**2))) / (len(df_s0_openai) + len(df_s1_openai) - 2)))\n",
        "cohen_d = s1_mean - s0_mean / pooled_std\n",
        "print(f\"Cohen's d: {cohen_d}\")"
      ],
      "metadata": {
        "colab": {
          "base_uri": "https://localhost:8080/"
        },
        "id": "vdFZMHJVr-vS",
        "outputId": "b7179540-2b27-4ce8-c9de-0d68f13903d1"
      },
      "execution_count": null,
      "outputs": [
        {
          "output_type": "stream",
          "name": "stdout",
          "text": [
            "Cohen's d: 0.02296034902086941\n"
          ]
        }
      ]
    },
    {
      "cell_type": "markdown",
      "source": [
        "# It means the standard deviation between them is Small.\n",
        "# Following this perspectiive:\n",
        "* Small: d < 0.20.\n",
        "* Medium: 0.20 < d < 0.80.\n",
        "* Large: d > 0.80\n"
      ],
      "metadata": {
        "id": "uRqF3VJ9vGT4"
      }
    },
    {
      "cell_type": "markdown",
      "source": [
        "# S1 scenario to OpenAI"
      ],
      "metadata": {
        "id": "ttOYPVUz784n"
      }
    },
    {
      "cell_type": "code",
      "source": [
        "shapiro_openai_s1, p_value_openai_s1 = stats.shapiro(openai_df['similarity'].where(openai_df['s'] == 's1').dropna(how='all'))\n",
        "print(f\"Shapiro-Wilk test for OpenAI: Statistic={shapiro_openai_s1}, p-value={p_value_openai_s1}\")"
      ],
      "metadata": {
        "colab": {
          "base_uri": "https://localhost:8080/"
        },
        "id": "2zdhNsRR8Etq",
        "outputId": "4fc301be-7e85-424b-93c3-1fd0befeff06"
      },
      "execution_count": null,
      "outputs": [
        {
          "output_type": "stream",
          "name": "stdout",
          "text": [
            "Shapiro-Wilk test for OpenAI: Statistic=0.660424203040856, p-value=4.350443867784307e-07\n"
          ]
        }
      ]
    },
    {
      "cell_type": "markdown",
      "source": [
        "# Using Q-QPLOT to see the data are not normally distributed from S1"
      ],
      "metadata": {
        "id": "s6kQ_EVF-Svd"
      }
    },
    {
      "cell_type": "code",
      "source": [
        "sm.qqplot(openai_df['similarity'].where(openai_df['s'] == 's1').dropna(how='all'), line='s')\n",
        "plt.show()"
      ],
      "metadata": {
        "colab": {
          "base_uri": "https://localhost:8080/",
          "height": 449
        },
        "id": "5s0Ijzfi-VSL",
        "outputId": "56077bba-a7fc-4b2f-fe44-29f629592f02"
      },
      "execution_count": null,
      "outputs": [
        {
          "output_type": "display_data",
          "data": {
            "text/plain": [
              "<Figure size 640x480 with 1 Axes>"
            ],
            "image/png": "[encoded data removed]"
          },
          "metadata": {}
        }
      ]
    },
    {
      "cell_type": "code",
      "source": [
        "mu = openai_df_mean.similarity.where(openai_df_mean['s'] == 's1').dropna(how='all').values[0]\n",
        "sigma = openai_df_std.similarity.where(openai_df_std['s'] == 's1').dropna(how='all').values[0]\n",
        "x = np.linspace(mu - 3.5*sigma, mu + 3.5*sigma, 100)\n",
        "y = stats.norm.pdf(x, mu, sigma)\n",
        "\n",
        "# Scale down the y-values of the lineplot\n",
        "y_scaled = y * 0.5  # Adjust scaling factor as needed\n",
        "\n",
        "fig, ax = plt.subplots(figsize=(10, 6)) # Adjust figsize\n",
        "ax1 = sns.histplot(openai_df['similarity'].where(openai_df['s'] == 's1').dropna(how='all'))\n",
        "\n",
        "ax2 = sns.lineplot(x=x,y=y_scaled, color='black')\n",
        "\n",
        "plt.ylim(bottom=-1)\n",
        "plt.xlim([mu - 4*sigma, mu + 4*sigma])  # Adjust xlim\n",
        "\n",
        "ax1.set_frame_on(False)\n",
        "ax1.axes.get_yaxis().set_visible(False)\n",
        "\n",
        "plt.close()\n",
        "\n",
        "glue(\"zeppo-fig\", fig, display=True)"
      ],
      "metadata": {
        "colab": {
          "base_uri": "https://localhost:8080/",
          "height": 542
        },
        "id": "6vV6Pli9AJ_v",
        "outputId": "080e2526-36ed-4631-ff15-2365abf57270"
      },
      "execution_count": null,
      "outputs": [
        {
          "output_type": "display_data",
          "data": {
            "text/plain": [
              "<Figure size 1000x600 with 1 Axes>"
            ],
            "image/png": "[encoded data removed]"
          },
          "metadata": {
            "scrapbook": {
              "name": "zeppo-fig",
              "mime_prefix": ""
            }
          }
        }
      ]
    },
    {
      "cell_type": "markdown",
      "source": [
        "# Doing a loop to run all scenarios and perform evaluation to each scenario"
      ],
      "metadata": {
        "id": "aDAw9qYkkuKc"
      }
    },
    {
      "cell_type": "code",
      "source": [
        "list_scenarios = [df_s1_openai, df_s2_openai, df_s3_openai, df_s4_openai, df_s5_openai, df_s6_openai, df_s7_openai, df_s8_openai, df_s9_openai, df_s10_openai, df_s11_openai, df_s12_openai]\n",
        "for i, scenario in enumerate(list_scenarios):\n",
        "  result_ttest = stats.ttest_ind(df_s0_openai, scenario)\n",
        "  sc = i + 1\n",
        "  print(f\"Scenario {sc} vs Baseline (S0) Using T-Test\")\n",
        "  print(f\"Scenario {sc} T-Test Statistic: {result_ttest.statistic}\")\n",
        "  print(f\"Scenario {sc} p-value: {result_ttest.pvalue}\")\n",
        "  print(f\"Scenario {sc} degrees of freedom: {result_ttest.df}\")\n",
        "  print(\"-----------------------------------------\")\n",
        "  print(f\"Due to non-normal data Scenario {sc}\")\n",
        "  wc_openai, wc_p_openai = stats.wilcoxon(df_s0_openai, scenario)\n",
        "  print(f\"Wilcoxon : {wc_openai}, p-value: {wc_p_openai}\")\n",
        "  print(\"-----------------------------------------\")\n",
        "  print(f\"Statistic Data of Scenario {sc}\")\n",
        "  print(f\"Shapiro-Wilk test for Scenario {sc}\")\n",
        "  shapiro_openai_sc, p_value_openai_sc = stats.shapiro(scenario)\n",
        "  print(f\"Shapiro-Wilk test for OpenAI: Statistic={shapiro_openai_sc}, p-value={p_value_openai_sc}\")\n",
        "  print(\" \")\n",
        "  print(f\"Anderson-Darling Stats of Scenario {sc}\")\n",
        "  result = stats.anderson(scenario)\n",
        "  print(f\"AD Statistic: {result.statistic}\")\n",
        "  print(f\"Critical Values: {result.critical_values}\")\n",
        "  print(f\"Significance Levels: {result.significance_level}\")\n",
        "  print(\" \")\n",
        "  print(f\"Kolmogorov-Smirnov of Scenario {sc}\")\n",
        "  sc_mean = openai_df_mean.similarity.where(openai_df_mean['s'].str.contains(f's{sc}')).dropna(how='all').values[0]\n",
        "  sc_std = openai_df_std.similarity.where(openai_df_std['s'].str.contains(f's{sc}')).dropna(how='all').values[0]\n",
        "  ks_openai_sc, ks_p_openai_sc = stats.kstest(scenario, 'norm', args=(sc_mean, sc_std))\n",
        "  print(f\"K-S Statistic for OpenAI: Statistic={ks_openai_sc}, p-value={ks_p_openai_sc}\")\n",
        "  print(\" \")\n",
        "  print(f\"Jarque-Bera of Scenario {sc}\")\n",
        "  jb_openai_sc, jb_p_openai_sc = stats.jarque_bera(scenario)\n",
        "  print(f\"J-B Statistic for OpenAI: Statistic={jb_openai_sc}, p-value={jb_p_openai_sc}\")\n",
        "  print(\"-----------------------------------------\")"
      ],
      "metadata": {
        "colab": {
          "base_uri": "https://localhost:8080/"
        },
        "id": "Tgi4bMxjkqma",
        "outputId": "45d1dbda-fad0-417c-e01f-140fac61493f"
      },
      "execution_count": null,
      "outputs": [
        {
          "output_type": "stream",
          "name": "stdout",
          "text": [
            "Scenario 1 vs Baseline (S0) Using T-Test\n",
            "Scenario 1 T-Test Statistic: -1.948291867611481\n",
            "Scenario 1 p-value: 0.05622409474618722\n",
            "Scenario 1 degrees of freedom: 58.0\n",
            "-----------------------------------------\n",
            "Due to non-normal data Scenario 1\n",
            "Wilcoxon : 145.0, p-value: 0.07324407435953617\n",
            "-----------------------------------------\n",
            "Statistic Data of Scenario 1\n",
            "Shapiro-Wilk test for Scenario 1\n",
            "Shapiro-Wilk test for OpenAI: Statistic=0.660424203040856, p-value=4.350443867784307e-07\n",
            " \n",
            "Anderson-Darling Stats of Scenario 1\n",
            "AD Statistic: 4.692565404213816\n",
            "Critical Values: [0.521 0.593 0.712 0.83  0.988]\n",
            "Significance Levels: [15.  10.   5.   2.5  1. ]\n",
            " \n",
            "Kolmogorov-Smirnov of Scenario 1\n",
            "K-S Statistic for OpenAI: Statistic=0.3545688823258995, p-value=0.0007024235266660517\n",
            " \n",
            "Jarque-Bera of Scenario 1\n",
            "J-B Statistic for OpenAI: Statistic=9.241818649726236, p-value=0.009843840741022302\n",
            "-----------------------------------------\n",
            "Scenario 2 vs Baseline (S0) Using T-Test\n",
            "Scenario 2 T-Test Statistic: -0.8345258256558729\n",
            "Scenario 2 p-value: 0.4074089273248859\n",
            "Scenario 2 degrees of freedom: 58.0\n",
            "-----------------------------------------\n",
            "Due to non-normal data Scenario 2\n",
            "Wilcoxon : 173.0, p-value: 0.22855282202363014\n",
            "-----------------------------------------\n",
            "Statistic Data of Scenario 2\n",
            "Shapiro-Wilk test for Scenario 2\n",
            "Shapiro-Wilk test for OpenAI: Statistic=0.8761411292587842, p-value=0.0023017063232036493\n",
            " \n",
            "Anderson-Darling Stats of Scenario 2\n",
            "AD Statistic: 1.1989577912795042\n",
            "Critical Values: [0.521 0.593 0.712 0.83  0.988]\n",
            "Significance Levels: [15.  10.   5.   2.5  1. ]\n",
            " \n",
            "Kolmogorov-Smirnov of Scenario 2\n",
            "K-S Statistic for OpenAI: Statistic=0.1515412646017188, p-value=0.4520584580453383\n",
            " \n",
            "Jarque-Bera of Scenario 2\n",
            "J-B Statistic for OpenAI: Statistic=2.9385036639467543, p-value=0.2300975724503133\n",
            "-----------------------------------------\n",
            "Scenario 3 vs Baseline (S0) Using T-Test\n",
            "Scenario 3 T-Test Statistic: 0.18809812248566463\n",
            "Scenario 3 p-value: 0.8514562911775979\n",
            "Scenario 3 degrees of freedom: 58.0\n",
            "-----------------------------------------\n",
            "Due to non-normal data Scenario 3\n",
            "Wilcoxon : 232.0, p-value: 1.0\n",
            "-----------------------------------------\n",
            "Statistic Data of Scenario 3\n",
            "Shapiro-Wilk test for Scenario 3\n",
            "Shapiro-Wilk test for OpenAI: Statistic=0.9590065026215245, p-value=0.29211450259341\n",
            " \n",
            "Anderson-Darling Stats of Scenario 3\n",
            "AD Statistic: 0.40823571437977435\n",
            "Critical Values: [0.521 0.593 0.712 0.83  0.988]\n",
            "Significance Levels: [15.  10.   5.   2.5  1. ]\n",
            " \n",
            "Kolmogorov-Smirnov of Scenario 3\n",
            "K-S Statistic for OpenAI: Statistic=0.13116145214897146, p-value=0.6332096116631588\n",
            " \n",
            "Jarque-Bera of Scenario 3\n",
            "J-B Statistic for OpenAI: Statistic=0.8623457382640237, p-value=0.6497465799384605\n",
            "-----------------------------------------\n",
            "Scenario 4 vs Baseline (S0) Using T-Test\n",
            "Scenario 4 T-Test Statistic: 1.1375155775917847\n",
            "Scenario 4 p-value: 0.26000027501366596\n",
            "Scenario 4 degrees of freedom: 58.0\n",
            "-----------------------------------------\n",
            "Due to non-normal data Scenario 4\n",
            "Wilcoxon : 181.0, p-value: 0.2988441474735737\n",
            "-----------------------------------------\n",
            "Statistic Data of Scenario 4\n",
            "Shapiro-Wilk test for Scenario 4\n",
            "Shapiro-Wilk test for OpenAI: Statistic=0.8890141314105261, p-value=0.004571783191480154\n",
            " \n",
            "Anderson-Darling Stats of Scenario 4\n",
            "AD Statistic: 1.0878917073212833\n",
            "Critical Values: [0.521 0.593 0.712 0.83  0.988]\n",
            "Significance Levels: [15.  10.   5.   2.5  1. ]\n",
            " \n",
            "Kolmogorov-Smirnov of Scenario 4\n",
            "K-S Statistic for OpenAI: Statistic=0.1576992552154915, p-value=0.40280479650289214\n",
            " \n",
            "Jarque-Bera of Scenario 4\n",
            "J-B Statistic for OpenAI: Statistic=2.8317955395849874, p-value=0.24270762003975566\n",
            "-----------------------------------------\n",
            "Scenario 5 vs Baseline (S0) Using T-Test\n",
            "Scenario 5 T-Test Statistic: 7.9568188925559475\n",
            "Scenario 5 p-value: 7.2355478144741e-11\n",
            "Scenario 5 degrees of freedom: 58.0\n",
            "-----------------------------------------\n",
            "Due to non-normal data Scenario 5\n",
            "Wilcoxon : 0.0, p-value: 1.862645149230957e-09\n",
            "-----------------------------------------\n",
            "Statistic Data of Scenario 5\n",
            "Shapiro-Wilk test for Scenario 5\n",
            "Shapiro-Wilk test for OpenAI: Statistic=0.8620151141605799, p-value=0.0011183219103562613\n",
            " \n",
            "Anderson-Darling Stats of Scenario 5\n",
            "AD Statistic: 1.4919005624412698\n",
            "Critical Values: [0.521 0.593 0.712 0.83  0.988]\n",
            "Significance Levels: [15.  10.   5.   2.5  1. ]\n",
            " \n",
            "Kolmogorov-Smirnov of Scenario 5\n",
            "K-S Statistic for OpenAI: Statistic=0.18961991635996123, p-value=0.2031775221386356\n",
            " \n",
            "Jarque-Bera of Scenario 5\n",
            "J-B Statistic for OpenAI: Statistic=3.051617388676056, p-value=0.21744513909015192\n",
            "-----------------------------------------\n",
            "Scenario 6 vs Baseline (S0) Using T-Test\n",
            "Scenario 6 T-Test Statistic: 2.8105043955451383\n",
            "Scenario 6 p-value: 0.006734257664867102\n",
            "Scenario 6 degrees of freedom: 58.0\n",
            "-----------------------------------------\n",
            "Due to non-normal data Scenario 6\n",
            "Wilcoxon : 115.0, p-value: 0.01453801617026329\n",
            "-----------------------------------------\n",
            "Statistic Data of Scenario 6\n",
            "Shapiro-Wilk test for Scenario 6\n",
            "Shapiro-Wilk test for OpenAI: Statistic=0.8405378465830233, p-value=0.0003954123180359428\n",
            " \n",
            "Anderson-Darling Stats of Scenario 6\n",
            "AD Statistic: 1.8508840133085052\n",
            "Critical Values: [0.521 0.593 0.712 0.83  0.988]\n",
            "Significance Levels: [15.  10.   5.   2.5  1. ]\n",
            " \n",
            "Kolmogorov-Smirnov of Scenario 6\n",
            "K-S Statistic for OpenAI: Statistic=0.26249527422414626, p-value=0.02591037137861163\n",
            " \n",
            "Jarque-Bera of Scenario 6\n",
            "J-B Statistic for OpenAI: Statistic=5.499954163121225, p-value=0.06392932635030915\n",
            "-----------------------------------------\n",
            "Scenario 7 vs Baseline (S0) Using T-Test\n",
            "Scenario 7 T-Test Statistic: 5.304302179027951\n",
            "Scenario 7 p-value: 1.84747519059966e-06\n",
            "Scenario 7 degrees of freedom: 58.0\n",
            "-----------------------------------------\n",
            "Due to non-normal data Scenario 7\n",
            "Wilcoxon : 10.0, p-value: 8.009374141693115e-08\n",
            "-----------------------------------------\n",
            "Statistic Data of Scenario 7\n",
            "Shapiro-Wilk test for Scenario 7\n",
            "Shapiro-Wilk test for OpenAI: Statistic=0.8488504792498078, p-value=0.0005866614141153787\n",
            " \n",
            "Anderson-Darling Stats of Scenario 7\n",
            "AD Statistic: 1.7550287474031165\n",
            "Critical Values: [0.521 0.593 0.712 0.83  0.988]\n",
            "Significance Levels: [15.  10.   5.   2.5  1. ]\n",
            " \n",
            "Kolmogorov-Smirnov of Scenario 7\n",
            "K-S Statistic for OpenAI: Statistic=0.20140662839759577, p-value=0.152509679680785\n",
            " \n",
            "Jarque-Bera of Scenario 7\n",
            "J-B Statistic for OpenAI: Statistic=3.6264319325074346, p-value=0.16312867600643835\n",
            "-----------------------------------------\n",
            "Scenario 8 vs Baseline (S0) Using T-Test\n",
            "Scenario 8 T-Test Statistic: 0.7242156250020436\n",
            "Scenario 8 p-value: 0.4718446356560826\n",
            "Scenario 8 degrees of freedom: 58.0\n",
            "-----------------------------------------\n",
            "Due to non-normal data Scenario 8\n",
            "Wilcoxon : 209.0, p-value: 0.6408254038542509\n",
            "-----------------------------------------\n",
            "Statistic Data of Scenario 8\n",
            "Shapiro-Wilk test for Scenario 8\n",
            "Shapiro-Wilk test for OpenAI: Statistic=0.9108041913069801, p-value=0.01559260669086753\n",
            " \n",
            "Anderson-Darling Stats of Scenario 8\n",
            "AD Statistic: 0.7911018368704497\n",
            "Critical Values: [0.521 0.593 0.712 0.83  0.988]\n",
            "Significance Levels: [15.  10.   5.   2.5  1. ]\n",
            " \n",
            "Kolmogorov-Smirnov of Scenario 8\n",
            "K-S Statistic for OpenAI: Statistic=0.1359327075449891, p-value=0.5890973172801313\n",
            " \n",
            "Jarque-Bera of Scenario 8\n",
            "J-B Statistic for OpenAI: Statistic=2.303964193549662, p-value=0.31600978623557674\n",
            "-----------------------------------------\n",
            "Scenario 9 vs Baseline (S0) Using T-Test\n",
            "Scenario 9 T-Test Statistic: 5.974966630358705\n",
            "Scenario 9 p-value: 1.4988099474072557e-07\n",
            "Scenario 9 degrees of freedom: 58.0\n",
            "-----------------------------------------\n",
            "Due to non-normal data Scenario 9\n",
            "Wilcoxon : 12.0, p-value: 1.30385160446167e-07\n",
            "-----------------------------------------\n",
            "Statistic Data of Scenario 9\n",
            "Shapiro-Wilk test for Scenario 9\n",
            "Shapiro-Wilk test for OpenAI: Statistic=0.830331304134061, p-value=0.0002467410887174317\n",
            " \n",
            "Anderson-Darling Stats of Scenario 9\n",
            "AD Statistic: 2.0922535213330775\n",
            "Critical Values: [0.521 0.593 0.712 0.83  0.988]\n",
            "Significance Levels: [15.  10.   5.   2.5  1. ]\n",
            " \n",
            "Kolmogorov-Smirnov of Scenario 9\n",
            "K-S Statistic for OpenAI: Statistic=0.24750731990799213, p-value=0.04185391637490776\n",
            " \n",
            "Jarque-Bera of Scenario 9\n",
            "J-B Statistic for OpenAI: Statistic=3.815696158236499, p-value=0.1483993869802483\n",
            "-----------------------------------------\n",
            "Scenario 10 vs Baseline (S0) Using T-Test\n",
            "Scenario 10 T-Test Statistic: 1.8384104014858555\n",
            "Scenario 10 p-value: 0.0711241214374628\n",
            "Scenario 10 degrees of freedom: 58.0\n",
            "-----------------------------------------\n",
            "Due to non-normal data Scenario 10\n",
            "Wilcoxon : 160.0, p-value: 0.140283040702343\n",
            "-----------------------------------------\n",
            "Statistic Data of Scenario 10\n",
            "Shapiro-Wilk test for Scenario 10\n",
            "Shapiro-Wilk test for OpenAI: Statistic=0.8582639867409998, p-value=0.0009280961875897013\n",
            " \n",
            "Anderson-Darling Stats of Scenario 10\n",
            "AD Statistic: 1.6504712485794855\n",
            "Critical Values: [0.521 0.593 0.712 0.83  0.988]\n",
            "Significance Levels: [15.  10.   5.   2.5  1. ]\n",
            " \n",
            "Kolmogorov-Smirnov of Scenario 10\n",
            "K-S Statistic for OpenAI: Statistic=0.19657850792857906, p-value=0.1718964564611658\n",
            " \n",
            "Jarque-Bera of Scenario 10\n",
            "J-B Statistic for OpenAI: Statistic=7.30495586310704, p-value=0.025926804269422024\n",
            "-----------------------------------------\n",
            "Scenario 11 vs Baseline (S0) Using T-Test\n",
            "Scenario 11 T-Test Statistic: 5.486032955216782\n",
            "Scenario 11 p-value: 9.422649841335774e-07\n",
            "Scenario 11 degrees of freedom: 58.0\n",
            "-----------------------------------------\n",
            "Due to non-normal data Scenario 11\n",
            "Wilcoxon : 12.0, p-value: 1.30385160446167e-07\n",
            "-----------------------------------------\n",
            "Statistic Data of Scenario 11\n",
            "Shapiro-Wilk test for Scenario 11\n",
            "Shapiro-Wilk test for OpenAI: Statistic=0.9565765597520856, p-value=0.2526131340155455\n",
            " \n",
            "Anderson-Darling Stats of Scenario 11\n",
            "AD Statistic: 0.5829694795569118\n",
            "Critical Values: [0.521 0.593 0.712 0.83  0.988]\n",
            "Significance Levels: [15.  10.   5.   2.5  1. ]\n",
            " \n",
            "Kolmogorov-Smirnov of Scenario 11\n",
            "K-S Statistic for OpenAI: Statistic=0.13854606605830921, p-value=0.5652189984944374\n",
            " \n",
            "Jarque-Bera of Scenario 11\n",
            "J-B Statistic for OpenAI: Statistic=1.0767577237836756, p-value=0.5836937339444128\n",
            "-----------------------------------------\n",
            "Scenario 12 vs Baseline (S0) Using T-Test\n",
            "Scenario 12 T-Test Statistic: 6.313898705501126\n",
            "Scenario 12 p-value: 4.1169048995011124e-08\n",
            "Scenario 12 degrees of freedom: 58.0\n",
            "-----------------------------------------\n",
            "Due to non-normal data Scenario 12\n",
            "Wilcoxon : 1.0, p-value: 3.725290298461914e-09\n",
            "-----------------------------------------\n",
            "Statistic Data of Scenario 12\n",
            "Shapiro-Wilk test for Scenario 12\n",
            "Shapiro-Wilk test for OpenAI: Statistic=0.9232475883584049, p-value=0.032589465399486234\n",
            " \n",
            "Anderson-Darling Stats of Scenario 12\n",
            "AD Statistic: 0.837185625583075\n",
            "Critical Values: [0.521 0.593 0.712 0.83  0.988]\n",
            "Significance Levels: [15.  10.   5.   2.5  1. ]\n",
            " \n",
            "Kolmogorov-Smirnov of Scenario 12\n",
            "K-S Statistic for OpenAI: Statistic=0.1911744570244588, p-value=0.19583523671590475\n",
            " \n",
            "Jarque-Bera of Scenario 12\n",
            "J-B Statistic for OpenAI: Statistic=2.2870000100178376, p-value=0.3187016102517298\n",
            "-----------------------------------------\n"
          ]
        }
      ]
    },
    {
      "cell_type": "markdown",
      "source": [
        "# Evaluate to Llama results"
      ],
      "metadata": {
        "id": "dIBcdoOXyTTk"
      }
    },
    {
      "cell_type": "code",
      "source": [
        "df_s0_llama = llama_df['similarity'].where(llama_df['s'].str.contains('s0')).dropna(how='all')\n",
        "s0_mean = llama_df_mean.similarity.where(llama_df_mean['s'].str.contains('s0')).dropna(how='all').values[0]\n",
        "s0_std = llama_df_std.similarity.where(llama_df_std['s'].str.contains('s0')).dropna(how='all').values[0]\n",
        "\n",
        "df_s1_llama = llama_df['similarity'].where(llama_df['s'] == 's1').dropna(how='all')\n",
        "s1_mean = llama_df_mean.similarity.where(llama_df_mean['s'] == 's1').dropna(how='all').values[0]\n",
        "s1_std = llama_df_std.similarity.where(llama_df_std['s'] == 's1').dropna(how='all').values[0]\n",
        "\n",
        "df_s2_llama = llama_df['similarity'].where(llama_df['s'].str.contains('s2')).dropna(how='all')\n",
        "s2_mean = llama_df_mean.similarity.where(llama_df_mean['s'].str.contains('s2')).dropna(how='all').values[0]\n",
        "s2_std = llama_df_std.similarity.where(llama_df_std['s'].str.contains('s2')).dropna(how='all').values[0]\n",
        "\n",
        "df_s3_llama = llama_df['similarity'].where(llama_df['s'].str.contains('s3')).dropna(how='all')\n",
        "s3_mean = llama_df_mean.similarity.where(llama_df_mean['s'].str.contains('s3')).dropna(how='all').values[0]\n",
        "s3_std = llama_df_std.similarity.where(llama_df_std['s'].str.contains('s3')).dropna(how='all').values[0]\n",
        "\n",
        "df_s4_llama = llama_df['similarity'].where(llama_df['s'].str.contains('s4')).dropna(how='all')\n",
        "s4_mean = llama_df_mean.similarity.where(llama_df_mean['s'].str.contains('s4')).dropna(how='all').values[0]\n",
        "s4_std = llama_df_std.similarity.where(llama_df_std['s'].str.contains('s4')).dropna(how='all').values[0]\n",
        "\n",
        "df_s5_llama = llama_df['similarity'].where(llama_df['s'].str.contains('s5')).dropna(how='all')\n",
        "s5_mean = llama_df_mean.similarity.where(llama_df_mean['s'].str.contains('s5')).dropna(how='all').values[0]\n",
        "s5_std = llama_df_std.similarity.where(llama_df_std['s'].str.contains('s5')).dropna(how='all').values[0]\n",
        "\n",
        "df_s6_llama = llama_df['similarity'].where(llama_df['s'].str.contains('s6')).dropna(how='all')\n",
        "s6_mean = llama_df_mean.similarity.where(llama_df_mean['s'].str.contains('s6')).dropna(how='all').values[0]\n",
        "s6_std = llama_df_std.similarity.where(llama_df_std['s'].str.contains('s6')).dropna(how='all').values[0]\n",
        "\n",
        "df_s7_llama = llama_df['similarity'].where(llama_df['s'].str.contains('s7')).dropna(how='all')\n",
        "s7_mean = llama_df_mean.similarity.where(llama_df_mean['s'].str.contains('s7')).dropna(how='all').values[0]\n",
        "s7_std = llama_df_std.similarity.where(llama_df_std['s'].str.contains('s7')).dropna(how='all').values[0]\n",
        "\n",
        "df_s8_llama = llama_df['similarity'].where(llama_df['s'].str.contains('s8')).dropna(how='all')\n",
        "s8_mean = llama_df_mean.similarity.where(llama_df_mean['s'].str.contains('s8')).dropna(how='all').values[0]\n",
        "s8_std = llama_df_std.similarity.where(llama_df_std['s'].str.contains('s8')).dropna(how='all').values[0]\n",
        "\n",
        "df_s9_llama = llama_df['similarity'].where(llama_df['s'].str.contains('s9')).dropna(how='all')\n",
        "s9_mean = llama_df_mean.similarity.where(llama_df_mean['s'].str.contains('s9')).dropna(how='all').values[0]\n",
        "s9_std = llama_df_std.similarity.where(llama_df_std['s'].str.contains('s9')).dropna(how='all').values[0]\n",
        "\n",
        "df_s10_llama = llama_df['similarity'].where(llama_df['s'].str.contains('s10')).dropna(how='all')\n",
        "s10_mean = llama_df_mean.similarity.where(llama_df_mean['s'].str.contains('s10')).dropna(how='all').values[0]\n",
        "s10_std = llama_df_std.similarity.where(llama_df_std['s'].str.contains('s10')).dropna(how='all').values[0]\n",
        "\n",
        "df_s11_llama = llama_df['similarity'].where(llama_df['s'].str.contains('s11')).dropna(how='all')\n",
        "s11_mean = llama_df_mean.similarity.where(llama_df_mean['s'].str.contains('s11')).dropna(how='all').values[0]\n",
        "s11_std = llama_df_std.similarity.where(llama_df_std['s'].str.contains('s11')).dropna(how='all').values[0]\n",
        "\n",
        "df_s12_llama = llama_df['similarity'].where(llama_df['s'].str.contains('s12')).dropna(how='all')\n",
        "s12_mean = llama_df_mean.similarity.where(llama_df_mean['s'].str.contains('s12')).dropna(how='all').values[0]\n",
        "s12_std = llama_df_std.similarity.where(llama_df_std['s'].str.contains('s12')).dropna(how='all').values[0]"
      ],
      "metadata": {
        "id": "d98JmKn_ycQZ"
      },
      "execution_count": null,
      "outputs": []
    },
    {
      "cell_type": "markdown",
      "source": [
        "# S0 scenario to Llama"
      ],
      "metadata": {
        "id": "V47s-xHO2fxa"
      }
    },
    {
      "cell_type": "code",
      "source": [
        "shapiro_llama_s0, p_value_llama_s0 = stats.shapiro(df_s0_llama)\n",
        "print(f\"Shapiro-Wilk test for Llama: Statistic={shapiro_llama_s0}, p-value={p_value_llama_s0}\")"
      ],
      "metadata": {
        "colab": {
          "base_uri": "https://localhost:8080/"
        },
        "id": "rundD92h2oPl",
        "outputId": "bebeb45b-ebc2-4419-e499-6203870c9470"
      },
      "execution_count": null,
      "outputs": [
        {
          "output_type": "stream",
          "name": "stdout",
          "text": [
            "Shapiro-Wilk test for Llama: Statistic=0.8625173000376143, p-value=0.0011467742445571867\n"
          ]
        }
      ]
    },
    {
      "cell_type": "markdown",
      "source": [
        "# Applying the Anderson-Darling Test knowing that:\n",
        "## H null = my data are non-normality\n",
        "## Using the Scenario 0 (s0)"
      ],
      "metadata": {
        "id": "ye3TwiFM3XgI"
      }
    },
    {
      "cell_type": "code",
      "source": [
        "result = stats.anderson(df_s0_llama)\n",
        "print(f\"AD Statistic: {result.statistic}\")\n",
        "print(f\"Critical Values: {result.critical_values}\")\n",
        "print(f\"Significance Levels: {result.significance_level}\")"
      ],
      "metadata": {
        "colab": {
          "base_uri": "https://localhost:8080/"
        },
        "id": "R8ioTRhm3dfY",
        "outputId": "defbf64b-8389-4e3f-bfe3-19a99b84241b"
      },
      "execution_count": null,
      "outputs": [
        {
          "output_type": "stream",
          "name": "stdout",
          "text": [
            "AD Statistic: 1.1071467657077\n",
            "Critical Values: [0.521 0.593 0.712 0.83  0.988]\n",
            "Significance Levels: [15.  10.   5.   2.5  1. ]\n"
          ]
        }
      ]
    },
    {
      "cell_type": "markdown",
      "source": [
        "Output Interpretation\n",
        "AD Statistic (A²): The test statistic (larger = stronger evidence against normality).\n",
        "\n",
        "Critical Values: Thresholds at different significance levels (15%, 10%, 5%, 2.5%, 1%).\n",
        "\n",
        "Significance Levels: Corresponding alpha levels (0.15, 0.10, 0.05, 0.025, 0.01).\n",
        "\n",
        "Decision Rule (Modified for Your H₀)\n",
        "Compare A² against critical values.\n",
        "\n",
        "If A² > critical value at (e.g., 5%) → Reject H₁ (data is not normal).\n",
        "\n",
        "If A² ≤ critical value → Fail to reject H₀ (data may not be normal).\n",
        "\n",
        "(Normally, A² > critical value → reject normality. Here, we’re flipping the logic to fit your H₀.)"
      ],
      "metadata": {
        "id": "SEBf-RQn33GE"
      }
    },
    {
      "cell_type": "markdown",
      "source": [
        "# Applying Kolmogorov-Smirnov (KS) Test knowing that:\n",
        "## H null = my data are normality\n",
        "## Using the Scenario 0 (s0)\n",
        "---\n"
      ],
      "metadata": {
        "id": "QIi5nnP04HCg"
      }
    },
    {
      "cell_type": "code",
      "source": [
        "ks_llama_s0, ks_p_llama_s0 = stats.kstest(df_s0_llama, 'norm', args=(s0_mean, s0_std))\n",
        "print(f\"K-S Statistic for Llama: Statistic={ks_llama_s0}, p-value={ks_p_llama_s0}\")"
      ],
      "metadata": {
        "colab": {
          "base_uri": "https://localhost:8080/"
        },
        "id": "C37C0wXO4Tcl",
        "outputId": "f83f4aa6-c0a5-4520-870f-cb37549b13fc"
      },
      "execution_count": null,
      "outputs": [
        {
          "output_type": "stream",
          "name": "stdout",
          "text": [
            "K-S Statistic for Llama: Statistic=0.14221445730493454, p-value=0.5322174009049836\n"
          ]
        }
      ]
    },
    {
      "cell_type": "markdown",
      "source": [
        "# Applying Jarque-Bera Test knowing that:\n",
        "## H null = my data are non-normality\n",
        "## Using the Scenario 0 (s0)\n",
        "---"
      ],
      "metadata": {
        "id": "gfBHGLb74-sJ"
      }
    },
    {
      "cell_type": "code",
      "source": [
        "jb_llama_s0, jb_p_llama_s0 = stats.jarque_bera(df_s0_llama)\n",
        "print(f\"JB Statistic for Llama: Statistic={jb_llama_s0}, p-value={jb_p_llama_s0}\")"
      ],
      "metadata": {
        "colab": {
          "base_uri": "https://localhost:8080/"
        },
        "id": "ZninBsKq5MDn",
        "outputId": "3025797d-ef84-4439-d701-d176f4cc0c9f"
      },
      "execution_count": null,
      "outputs": [
        {
          "output_type": "stream",
          "name": "stdout",
          "text": [
            "JB Statistic for Llama: Statistic=17.053936343217856, p-value=0.00019805452792778287\n"
          ]
        }
      ]
    },
    {
      "cell_type": "markdown",
      "source": [
        "# If we uses as Hypothesis null: The data are not normally distributed. We have as result:\n",
        "\n",
        "1.   Shapiro-Wilk (SW) test:\n",
        "*   Interpretation: Since p < 0.05, we reject the reject H null\n",
        "*   Conclusion: The data deviate significantly from normal distribution.\n",
        "2.   Anderson-Darling (AD) test:\n",
        "*   Compare the AD Stats to the Critical value (CV)\n",
        "*   AD > CV at a given significance level, reject normality at that level\n",
        "*   1.107 > 0.980 (1%) -> Reject H null at 1% significance levels\n",
        "*   Conclusion: Strong evidence of non-normality\n",
        "3.   Kolmogorov-Smirnov (KS) test:\n",
        "*   Interpretation: Since p > 0.05, we fail to reject H null\n",
        "*   Conclusion: The data is consistent with a normal distribution. KS is less sensitive than SW.\n",
        "4.   Jarque-Bera (JB) test:\n",
        "*   Interpretation: Since p < 0.05, we reject H null\n",
        "*   Conclusion: The data has shown significant skewness or excess kurtosis (non-normal).\n"
      ],
      "metadata": {
        "id": "Sj1kgvoC5af8"
      }
    },
    {
      "cell_type": "markdown",
      "source": [
        "# Final Summary Table\n",
        "\n",
        "Test\t            |Statistic|\tp-value / Critical Value\t|Conclusion\n",
        "------------------|---------|---------------------------|----------\n",
        "Shapiro-Wilk\t    |  0.862\t|   p = 0.001 (< 0.05)\t    |❌ Not Normal\n",
        "Anderson-Darling\t|  1.107\t|   > 0.980 (1% CV)\t        |❌ Not Normal\n",
        "Kolmogorov-Smirnov|\t 0.142\t|   p = 0.532 (> 0.05)\t    |⚠️ Normal*\n",
        "Jarque-Bera\t      |  17.054\t|   p = 0.00019 (< 0.05)\t  |❌ Not Normal\n"
      ],
      "metadata": {
        "id": "4R4U6m1h5f_r"
      }
    },
    {
      "cell_type": "markdown",
      "source": [
        "# As scenario 0 or baseline is not normal\n",
        "# I'm going to use two alternatives stats\n",
        "# Mann-Whitney U test and Wilcoxon signed-rank test"
      ],
      "metadata": {
        "id": "M8gBmu_6zfZf"
      }
    },
    {
      "cell_type": "code",
      "source": [
        "mw_llama_s0, mw_p_llama_s0 = stats.mannwhitneyu(df_s0_llama, df_s1_llama)\n",
        "print(f\"Mann-Whitney U: {mw_llama_s0}, p-value: {mw_llama_s0}\")\n",
        "\n",
        "wc_llama_s0, wc_p_llama_s0 = stats.wilcoxon(df_s0_llama, df_s1_llama)\n",
        "print(f\"Wilcoxon : {wc_llama_s0}, p-value: {wc_p_llama_s0}\")"
      ],
      "metadata": {
        "colab": {
          "base_uri": "https://localhost:8080/"
        },
        "id": "2qRBzckXz861",
        "outputId": "d4d7dd38-78a0-46f4-f315-e1c580e03ffb"
      },
      "execution_count": null,
      "outputs": [
        {
          "output_type": "stream",
          "name": "stdout",
          "text": [
            "Mann-Whitney U: 280.0, p-value: 280.0\n",
            "Wilcoxon : 133.0, p-value: 0.04048972204327583\n"
          ]
        }
      ]
    },
    {
      "cell_type": "markdown",
      "source": [
        "### Evaluating the Mann-Whitney U stat we can understand that is inconclusive\n",
        "### But the Wilcoxon signed-rank test the paired groups differ significantly\n",
        "### p < 0.05 → Reject H₀ (significant difference between paired groups).\n",
        "### Effect Direction: Negative ranks (e.g., \"S1 < S0\") dominate if the statistic is small."
      ],
      "metadata": {
        "id": "_lvHqF7jy8j3"
      }
    },
    {
      "cell_type": "markdown",
      "source": [
        "# Perform One-Sample T-Test S0 and S1"
      ],
      "metadata": {
        "id": "8ns0BrlRyxMo"
      }
    },
    {
      "cell_type": "code",
      "source": [
        "pooled_std = np.sqrt(((len(df_s0_llama)-1*(s0_std**2) + (len(df_s1_llama)-1*(s1_std**2))) / (len(df_s0_llama) + len(df_s1_llama) - 2)))\n",
        "cohen_d = s1_mean - s0_mean / pooled_std\n",
        "print(f\"Cohen's d: {cohen_d}\")"
      ],
      "metadata": {
        "colab": {
          "base_uri": "https://localhost:8080/"
        },
        "id": "W0qoAJGByoJu",
        "outputId": "a356a5d3-20d1-42c7-b61f-df7c54d3a6e7"
      },
      "execution_count": null,
      "outputs": [
        {
          "output_type": "stream",
          "name": "stdout",
          "text": [
            "Cohen's d: 0.025019788109142627\n"
          ]
        }
      ]
    },
    {
      "cell_type": "markdown",
      "source": [
        "# Using Q-QPLOT to see the data are normally distributed from S0"
      ],
      "metadata": {
        "id": "zy37kkxczmGC"
      }
    },
    {
      "cell_type": "code",
      "source": [
        "sm.qqplot(df_s0_llama, line='s')\n",
        "plt.show()"
      ],
      "metadata": {
        "colab": {
          "base_uri": "https://localhost:8080/",
          "height": 449
        },
        "id": "JbicR7xAzrVH",
        "outputId": "dbac7ce7-3f7e-4fd4-aa2c-4910331005c2"
      },
      "execution_count": null,
      "outputs": [
        {
          "output_type": "display_data",
          "data": {
            "text/plain": [
              "<Figure size 640x480 with 1 Axes>"
            ],
            "image/png": "[encoded data removed]"
          },
          "metadata": {}
        }
      ]
    },
    {
      "cell_type": "code",
      "source": [
        "mu = s0_mean\n",
        "sigma = s0_std\n",
        "x = np.linspace(mu - 3.5*sigma, mu + 3.5*sigma, 100)\n",
        "y = stats.norm.pdf(x, mu, sigma)\n",
        "\n",
        "# Scale down the y-values of the lineplot\n",
        "y_scaled = y * 0.5  # Adjust scaling factor as needed\n",
        "\n",
        "fig, ax = plt.subplots(figsize=(10, 6)) # Adjust figsize\n",
        "ax1 = sns.histplot(df_s0_llama)\n",
        "\n",
        "ax2 = sns.lineplot(x=x,y=y_scaled, color='black')\n",
        "\n",
        "plt.ylim(bottom=-1)\n",
        "plt.xlim([mu - 4*sigma, mu + 4*sigma])  # Adjust xlim\n",
        "\n",
        "ax1.set_frame_on(False)\n",
        "ax1.axes.get_yaxis().set_visible(False)\n",
        "\n",
        "plt.close()\n",
        "\n",
        "glue(\"zeppo-fig\", fig, display=True)"
      ],
      "metadata": {
        "colab": {
          "base_uri": "https://localhost:8080/",
          "height": 542
        },
        "id": "UZPrxBtqzvbq",
        "outputId": "590bff1e-0f0c-4d6c-9be7-bc2a7b26cde7"
      },
      "execution_count": null,
      "outputs": [
        {
          "output_type": "display_data",
          "data": {
            "text/plain": [
              "<Figure size 1000x600 with 1 Axes>"
            ],
            "image/png": "[encoded data removed]"
          },
          "metadata": {
            "scrapbook": {
              "name": "zeppo-fig",
              "mime_prefix": ""
            }
          }
        }
      ]
    },
    {
      "cell_type": "markdown",
      "source": [
        "# Doing a loop to run all scenarios and perform evaluation to each scenario"
      ],
      "metadata": {
        "id": "yZIF2ioX0c-o"
      }
    },
    {
      "cell_type": "code",
      "source": [
        "list_scenarios = [df_s1_llama, df_s2_llama, df_s3_llama, df_s4_llama, df_s5_llama, df_s6_llama, df_s7_llama, df_s8_llama, df_s9_llama, df_s10_llama, df_s11_llama, df_s12_llama]\n",
        "for i, scenario in enumerate(list_scenarios):\n",
        "  result_ttest = stats.ttest_ind(df_s0_llama, scenario)\n",
        "  sc = i + 1\n",
        "  print(f\"Scenario {sc} vs Baseline (S0) Using T-Test\")\n",
        "  print(f\"Scenario {sc} T-Test Statistic: {result_ttest.statistic}\")\n",
        "  print(f\"Scenario {sc} p-value: {result_ttest.pvalue}\")\n",
        "  print(f\"Scenario {sc} degrees of freedom: {result_ttest.df}\")\n",
        "  print(\"-----------------------------------------\")\n",
        "  print(f\"Due to non-normal data Scenario {sc}\")\n",
        "  wc_llama, wc_p_llama = stats.wilcoxon(df_s0_llama, scenario)\n",
        "  print(f\"Wilcoxon : {wc_llama}, p-value: {wc_p_llama}\")\n",
        "  print(\"-----------------------------------------\")\n",
        "  print(f\"Statistic Data of Scenario {sc}\")\n",
        "  print(f\"Shapiro-Wilk test for Scenario {sc}\")\n",
        "  shapiro_llama_sc, p_value_llama_sc = stats.shapiro(scenario)\n",
        "  print(f\"Shapiro-Wilk test for Llama: Statistic={shapiro_llama_sc}, p-value={p_value_llama_sc}\")\n",
        "  print(\" \")\n",
        "  print(f\"Anderson-Darling Stats of Scenario {sc}\")\n",
        "  result = stats.anderson(scenario)\n",
        "  print(f\"AD Statistic: {result.statistic}\")\n",
        "  print(f\"Critical Values: {result.critical_values}\")\n",
        "  print(f\"Significance Levels: {result.significance_level}\")\n",
        "  print(\" \")\n",
        "  print(f\"Kolmogorov-Smirnov of Scenario {sc}\")\n",
        "  sc_mean = llama_df_mean.similarity.where(llama_df_mean['s'].str.contains(f's{sc}')).dropna(how='all').values[0]\n",
        "  sc_std = llama_df_std.similarity.where(llama_df_std['s'].str.contains(f's{sc}')).dropna(how='all').values[0]\n",
        "  ks_llama_sc, ks_p_llama_sc = stats.kstest(scenario, 'norm', args=(sc_mean, sc_std))\n",
        "  print(f\"K-S Statistic for Llama: Statistic={ks_llama_sc}, p-value={ks_p_llama_sc}\")\n",
        "  print(\" \")\n",
        "  print(f\"Jarque-Bera of Scenario {sc}\")\n",
        "  jb_llama_sc, jb_p_llama_sc = stats.jarque_bera(scenario)\n",
        "  print(f\"J-B Statistic for Llama: Statistic={jb_llama_sc}, p-value={jb_p_llama_sc}\")\n",
        "  print(\"-----------------------------------------\")"
      ],
      "metadata": {
        "colab": {
          "base_uri": "https://localhost:8080/"
        },
        "id": "MCkV8dQP0csF",
        "outputId": "d9856caa-6603-40c4-bd58-084d96e60645"
      },
      "execution_count": null,
      "outputs": [
        {
          "output_type": "stream",
          "name": "stdout",
          "text": [
            "Scenario 1 vs Baseline (S0) Using T-Test\n",
            "Scenario 1 T-Test Statistic: -1.723246692608787\n",
            "Scenario 1 p-value: 0.09017178544031813\n",
            "Scenario 1 degrees of freedom: 58.0\n",
            "-----------------------------------------\n",
            "Due to non-normal data Scenario 1\n",
            "Wilcoxon : 133.0, p-value: 0.04048972204327583\n",
            "-----------------------------------------\n",
            "Statistic Data of Scenario 1\n",
            "Shapiro-Wilk test for Scenario 1\n",
            "Shapiro-Wilk test for Llama: Statistic=0.7914422522569, p-value=4.596116482357802e-05\n",
            " \n",
            "Anderson-Darling Stats of Scenario 1\n",
            "AD Statistic: 2.061487577204261\n",
            "Critical Values: [0.521 0.593 0.712 0.83  0.988]\n",
            "Significance Levels: [15.  10.   5.   2.5  1. ]\n",
            " \n",
            "Kolmogorov-Smirnov of Scenario 1\n",
            "K-S Statistic for Llama: Statistic=0.2355343763085826, p-value=0.06011574318956381\n",
            " \n",
            "Jarque-Bera of Scenario 1\n",
            "J-B Statistic for Llama: Statistic=15.331066223904683, p-value=0.0004687068154552812\n",
            "-----------------------------------------\n",
            "Scenario 2 vs Baseline (S0) Using T-Test\n",
            "Scenario 2 T-Test Statistic: 0.15877316484578494\n",
            "Scenario 2 p-value: 0.8743991536133604\n",
            "Scenario 2 degrees of freedom: 58.0\n",
            "-----------------------------------------\n",
            "Due to non-normal data Scenario 2\n",
            "Wilcoxon : 225.0, p-value: 0.8871948085725307\n",
            "-----------------------------------------\n",
            "Statistic Data of Scenario 2\n",
            "Shapiro-Wilk test for Scenario 2\n",
            "Shapiro-Wilk test for Llama: Statistic=0.7939988019021229, p-value=5.1064583109913495e-05\n",
            " \n",
            "Anderson-Darling Stats of Scenario 2\n",
            "AD Statistic: 1.9369097759479104\n",
            "Critical Values: [0.521 0.593 0.712 0.83  0.988]\n",
            "Significance Levels: [15.  10.   5.   2.5  1. ]\n",
            " \n",
            "Kolmogorov-Smirnov of Scenario 2\n",
            "K-S Statistic for Llama: Statistic=0.2198440632864291, p-value=0.09395434269201464\n",
            " \n",
            "Jarque-Bera of Scenario 2\n",
            "J-B Statistic for Llama: Statistic=34.23542973952506, p-value=3.6801954941855824e-08\n",
            "-----------------------------------------\n",
            "Scenario 3 vs Baseline (S0) Using T-Test\n",
            "Scenario 3 T-Test Statistic: 2.963759785175806\n",
            "Scenario 3 p-value: 0.004402890331960693\n",
            "Scenario 3 degrees of freedom: 58.0\n",
            "-----------------------------------------\n",
            "Due to non-normal data Scenario 3\n",
            "Wilcoxon : 111.0, p-value: 0.011303061619400978\n",
            "-----------------------------------------\n",
            "Statistic Data of Scenario 3\n",
            "Shapiro-Wilk test for Scenario 3\n",
            "Shapiro-Wilk test for Llama: Statistic=0.9120945820236257, p-value=0.01681128201324381\n",
            " \n",
            "Anderson-Darling Stats of Scenario 3\n",
            "AD Statistic: 1.0863445441718191\n",
            "Critical Values: [0.521 0.593 0.712 0.83  0.988]\n",
            "Significance Levels: [15.  10.   5.   2.5  1. ]\n",
            " \n",
            "Kolmogorov-Smirnov of Scenario 3\n",
            "K-S Statistic for Llama: Statistic=0.20318848278517665, p-value=0.14581084186683702\n",
            " \n",
            "Jarque-Bera of Scenario 3\n",
            "J-B Statistic for Llama: Statistic=2.528645921279203, p-value=0.28243044795441113\n",
            "-----------------------------------------\n",
            "Scenario 4 vs Baseline (S0) Using T-Test\n",
            "Scenario 4 T-Test Statistic: -0.575919096851427\n",
            "Scenario 4 p-value: 0.5668979292761196\n",
            "Scenario 4 degrees of freedom: 58.0\n",
            "-----------------------------------------\n",
            "Due to non-normal data Scenario 4\n",
            "Wilcoxon : 173.0, p-value: 0.22855282202363014\n",
            "-----------------------------------------\n",
            "Statistic Data of Scenario 4\n",
            "Shapiro-Wilk test for Scenario 4\n",
            "Shapiro-Wilk test for Llama: Statistic=0.8353751020229327, p-value=0.00031096043709744216\n",
            " \n",
            "Anderson-Darling Stats of Scenario 4\n",
            "AD Statistic: 1.519815427814283\n",
            "Critical Values: [0.521 0.593 0.712 0.83  0.988]\n",
            "Significance Levels: [15.  10.   5.   2.5  1. ]\n",
            " \n",
            "Kolmogorov-Smirnov of Scenario 4\n",
            "K-S Statistic for Llama: Statistic=0.1880542869011279, p-value=0.21078355954819017\n",
            " \n",
            "Jarque-Bera of Scenario 4\n",
            "J-B Statistic for Llama: Statistic=14.42364448420643, p-value=0.0007378114586383215\n",
            "-----------------------------------------\n",
            "Scenario 5 vs Baseline (S0) Using T-Test\n",
            "Scenario 5 T-Test Statistic: 2.3522580273135048\n",
            "Scenario 5 p-value: 0.02207522628280264\n",
            "Scenario 5 degrees of freedom: 58.0\n",
            "-----------------------------------------\n",
            "Due to non-normal data Scenario 5\n",
            "Wilcoxon : 126.0, p-value: 0.027741437777876854\n",
            "-----------------------------------------\n",
            "Statistic Data of Scenario 5\n",
            "Shapiro-Wilk test for Scenario 5\n",
            "Shapiro-Wilk test for Llama: Statistic=0.7998261238747768, p-value=6.508343461775422e-05\n",
            " \n",
            "Anderson-Darling Stats of Scenario 5\n",
            "AD Statistic: 2.3259167095995394\n",
            "Critical Values: [0.521 0.593 0.712 0.83  0.988]\n",
            "Significance Levels: [15.  10.   5.   2.5  1. ]\n",
            " \n",
            "Kolmogorov-Smirnov of Scenario 5\n",
            "K-S Statistic for Llama: Statistic=0.2716537388660855, p-value=0.019050872409879016\n",
            " \n",
            "Jarque-Bera of Scenario 5\n",
            "J-B Statistic for Llama: Statistic=12.014507129323157, p-value=0.002460837438874763\n",
            "-----------------------------------------\n",
            "Scenario 6 vs Baseline (S0) Using T-Test\n",
            "Scenario 6 T-Test Statistic: 0.6265952542445493\n",
            "Scenario 6 p-value: 0.5333831724071549\n",
            "Scenario 6 degrees of freedom: 58.0\n",
            "-----------------------------------------\n",
            "Due to non-normal data Scenario 6\n",
            "Wilcoxon : 155.0, p-value: 0.11417667381465435\n",
            "-----------------------------------------\n",
            "Statistic Data of Scenario 6\n",
            "Shapiro-Wilk test for Scenario 6\n",
            "Shapiro-Wilk test for Llama: Statistic=0.9228816292999477, p-value=0.0318792803251517\n",
            " \n",
            "Anderson-Darling Stats of Scenario 6\n",
            "AD Statistic: 0.7211845258248601\n",
            "Critical Values: [0.521 0.593 0.712 0.83  0.988]\n",
            "Significance Levels: [15.  10.   5.   2.5  1. ]\n",
            " \n",
            "Kolmogorov-Smirnov of Scenario 6\n",
            "K-S Statistic for Llama: Statistic=0.1894573529357163, p-value=0.20395735855383246\n",
            " \n",
            "Jarque-Bera of Scenario 6\n",
            "J-B Statistic for Llama: Statistic=1.671828185581321, p-value=0.43347806110754505\n",
            "-----------------------------------------\n",
            "Scenario 7 vs Baseline (S0) Using T-Test\n",
            "Scenario 7 T-Test Statistic: 2.720310195547623\n",
            "Scenario 7 p-value: 0.008593121673612788\n",
            "Scenario 7 degrees of freedom: 58.0\n",
            "-----------------------------------------\n",
            "Due to non-normal data Scenario 7\n",
            "Wilcoxon : 115.0, p-value: 0.01453801617026329\n",
            "-----------------------------------------\n",
            "Statistic Data of Scenario 7\n",
            "Shapiro-Wilk test for Scenario 7\n",
            "Shapiro-Wilk test for Llama: Statistic=0.9315473826949435, p-value=0.05398404197365792\n",
            " \n",
            "Anderson-Darling Stats of Scenario 7\n",
            "AD Statistic: 0.7316430677926853\n",
            "Critical Values: [0.521 0.593 0.712 0.83  0.988]\n",
            "Significance Levels: [15.  10.   5.   2.5  1. ]\n",
            " \n",
            "Kolmogorov-Smirnov of Scenario 7\n",
            "K-S Statistic for Llama: Statistic=0.15405847964556918, p-value=0.43153936916287894\n",
            " \n",
            "Jarque-Bera of Scenario 7\n",
            "J-B Statistic for Llama: Statistic=1.2030979278343954, p-value=0.5479622047114954\n",
            "-----------------------------------------\n",
            "Scenario 8 vs Baseline (S0) Using T-Test\n",
            "Scenario 8 T-Test Statistic: 1.3425296752527176\n",
            "Scenario 8 p-value: 0.18465544618774823\n",
            "Scenario 8 degrees of freedom: 58.0\n",
            "-----------------------------------------\n",
            "Due to non-normal data Scenario 8\n",
            "Wilcoxon : 190.0, p-value: 0.39305018074810505\n",
            "-----------------------------------------\n",
            "Statistic Data of Scenario 8\n",
            "Shapiro-Wilk test for Scenario 8\n",
            "Shapiro-Wilk test for Llama: Statistic=0.7964754549050644, p-value=5.658521127398201e-05\n",
            " \n",
            "Anderson-Darling Stats of Scenario 8\n",
            "AD Statistic: 2.363889554264375\n",
            "Critical Values: [0.521 0.593 0.712 0.83  0.988]\n",
            "Significance Levels: [15.  10.   5.   2.5  1. ]\n",
            " \n",
            "Kolmogorov-Smirnov of Scenario 8\n",
            "K-S Statistic for Llama: Statistic=0.2156605430608305, p-value=0.10527109650152078\n",
            " \n",
            "Jarque-Bera of Scenario 8\n",
            "J-B Statistic for Llama: Statistic=4.876775731403894, p-value=0.08730147978548494\n",
            "-----------------------------------------\n",
            "Scenario 9 vs Baseline (S0) Using T-Test\n",
            "Scenario 9 T-Test Statistic: 2.762679793961653\n",
            "Scenario 9 p-value: 0.00766796268862902\n",
            "Scenario 9 degrees of freedom: 58.0\n",
            "-----------------------------------------\n",
            "Due to non-normal data Scenario 9\n",
            "Wilcoxon : 124.0, p-value: 0.024786051362752914\n",
            "-----------------------------------------\n",
            "Statistic Data of Scenario 9\n",
            "Shapiro-Wilk test for Scenario 9\n",
            "Shapiro-Wilk test for Llama: Statistic=0.8704759373329375, p-value=0.001716610762948441\n",
            " \n",
            "Anderson-Darling Stats of Scenario 9\n",
            "AD Statistic: 1.4336511031400754\n",
            "Critical Values: [0.521 0.593 0.712 0.83  0.988]\n",
            "Significance Levels: [15.  10.   5.   2.5  1. ]\n",
            " \n",
            "Kolmogorov-Smirnov of Scenario 9\n",
            "K-S Statistic for Llama: Statistic=0.22480417664109698, p-value=0.08186430131417266\n",
            " \n",
            "Jarque-Bera of Scenario 9\n",
            "J-B Statistic for Llama: Statistic=2.8844553409663476, p-value=0.23640054915004133\n",
            "-----------------------------------------\n",
            "Scenario 10 vs Baseline (S0) Using T-Test\n",
            "Scenario 10 T-Test Statistic: -0.1428231767987208\n",
            "Scenario 10 p-value: 0.8869248502147774\n",
            "Scenario 10 degrees of freedom: 58.0\n",
            "-----------------------------------------\n",
            "Due to non-normal data Scenario 10\n",
            "Wilcoxon : 222.0, p-value: 0.8393927440047264\n",
            "-----------------------------------------\n",
            "Statistic Data of Scenario 10\n",
            "Shapiro-Wilk test for Scenario 10\n",
            "Shapiro-Wilk test for Llama: Statistic=0.8726117970629265, p-value=0.0019161529440926777\n",
            " \n",
            "Anderson-Darling Stats of Scenario 10\n",
            "AD Statistic: 1.280696024830089\n",
            "Critical Values: [0.521 0.593 0.712 0.83  0.988]\n",
            "Significance Levels: [15.  10.   5.   2.5  1. ]\n",
            " \n",
            "Kolmogorov-Smirnov of Scenario 10\n",
            "K-S Statistic for Llama: Statistic=0.20429430695133807, p-value=0.1417733467581641\n",
            " \n",
            "Jarque-Bera of Scenario 10\n",
            "J-B Statistic for Llama: Statistic=12.819982414805832, p-value=0.0016450389661718044\n",
            "-----------------------------------------\n",
            "Scenario 11 vs Baseline (S0) Using T-Test\n",
            "Scenario 11 T-Test Statistic: 5.382752382028094\n",
            "Scenario 11 p-value: 1.3825596763061778e-06\n",
            "Scenario 11 degrees of freedom: 58.0\n",
            "-----------------------------------------\n",
            "Due to non-normal data Scenario 11\n",
            "Wilcoxon : 37.0, p-value: 1.0609626770019531e-05\n",
            "-----------------------------------------\n",
            "Statistic Data of Scenario 11\n",
            "Shapiro-Wilk test for Scenario 11\n",
            "Shapiro-Wilk test for Llama: Statistic=0.9100885212476681, p-value=0.014957061327983523\n",
            " \n",
            "Anderson-Darling Stats of Scenario 11\n",
            "AD Statistic: 0.7711965807920471\n",
            "Critical Values: [0.521 0.593 0.712 0.83  0.988]\n",
            "Significance Levels: [15.  10.   5.   2.5  1. ]\n",
            " \n",
            "Kolmogorov-Smirnov of Scenario 11\n",
            "K-S Statistic for Llama: Statistic=0.13633814278344814, p-value=0.5853762461060688\n",
            " \n",
            "Jarque-Bera of Scenario 11\n",
            "J-B Statistic for Llama: Statistic=2.4375435808365933, p-value=0.2955929942122037\n",
            "-----------------------------------------\n",
            "Scenario 12 vs Baseline (S0) Using T-Test\n",
            "Scenario 12 T-Test Statistic: 2.616673454230175\n",
            "Scenario 12 p-value: 0.011303087374628137\n",
            "Scenario 12 degrees of freedom: 58.0\n",
            "-----------------------------------------\n",
            "Due to non-normal data Scenario 12\n",
            "Wilcoxon : 129.0, p-value: 0.03272089920938015\n",
            "-----------------------------------------\n",
            "Statistic Data of Scenario 12\n",
            "Shapiro-Wilk test for Scenario 12\n",
            "Shapiro-Wilk test for Llama: Statistic=0.8988224589161409, p-value=0.007860658912265233\n",
            " \n",
            "Anderson-Darling Stats of Scenario 12\n",
            "AD Statistic: 1.0226904218596253\n",
            "Critical Values: [0.521 0.593 0.712 0.83  0.988]\n",
            "Significance Levels: [15.  10.   5.   2.5  1. ]\n",
            " \n",
            "Kolmogorov-Smirnov of Scenario 12\n",
            "K-S Statistic for Llama: Statistic=0.16170421178673247, p-value=0.3725475262695326\n",
            " \n",
            "Jarque-Bera of Scenario 12\n",
            "J-B Statistic for Llama: Statistic=2.230347775493985, p-value=0.3278582634078276\n",
            "-----------------------------------------\n"
          ]
        }
      ]
    }
  ]
}